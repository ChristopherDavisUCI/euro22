{
 "cells": [
  {
   "cell_type": "markdown",
   "id": "b4c68ea2-ce2a-4fb4-aebd-62b890bdc707",
   "metadata": {},
   "source": [
    "# Power ratings"
   ]
  },
  {
   "cell_type": "markdown",
   "id": "16efc9d7-f0bd-416c-8da0-dbb10415b385",
   "metadata": {},
   "source": [
    "## Introduction\n",
    "\n",
    "We'll build the power ratings using the following data, which contains scores from UEFA women's soccer teams in the last three years of Euro qualification and World Cup qualification.  There are 388 matches in this dataset.  The dataset also contains odds for most of those games from [oddspedia.com](https://oddspedia.com/football/world/world-cup-women-qualification#odds), but we won't use those odds to make these power ratings."
   ]
  },
  {
   "cell_type": "code",
   "execution_count": 1,
   "id": "699dc49e-f1a8-46b3-be89-7dd9524fb4be",
   "metadata": {},
   "outputs": [],
   "source": [
    "import numpy as np\n",
    "import pandas as pd\n",
    "\n",
    "from scipy.optimize import minimize\n",
    "from scipy.special import factorial"
   ]
  },
  {
   "cell_type": "code",
   "execution_count": 2,
   "id": "bd6e3769-69bc-494d-89d0-98d4a086f844",
   "metadata": {},
   "outputs": [],
   "source": [
    "df = pd.read_csv(\"data/scores_and_odds.csv\")"
   ]
  },
  {
   "cell_type": "code",
   "execution_count": 3,
   "id": "a7358be5-ccd6-43b2-b055-c936893bf342",
   "metadata": {
    "tags": [
     "output_scroll"
    ]
   },
   "outputs": [
    {
     "data": {
      "text/html": [
       "<div>\n",
       "<style scoped>\n",
       "    .dataframe tbody tr th:only-of-type {\n",
       "        vertical-align: middle;\n",
       "    }\n",
       "\n",
       "    .dataframe tbody tr th {\n",
       "        vertical-align: top;\n",
       "    }\n",
       "\n",
       "    .dataframe thead th {\n",
       "        text-align: right;\n",
       "    }\n",
       "</style>\n",
       "<table border=\"1\" class=\"dataframe\">\n",
       "  <thead>\n",
       "    <tr style=\"text-align: right;\">\n",
       "      <th></th>\n",
       "      <th>date</th>\n",
       "      <th>home_team</th>\n",
       "      <th>away_team</th>\n",
       "      <th>home_score</th>\n",
       "      <th>away_score</th>\n",
       "      <th>tournament</th>\n",
       "      <th>home_odds</th>\n",
       "      <th>draw_odds</th>\n",
       "      <th>away_odds</th>\n",
       "    </tr>\n",
       "  </thead>\n",
       "  <tbody>\n",
       "    <tr>\n",
       "      <th>0</th>\n",
       "      <td>2019-08-29</td>\n",
       "      <td>Israel</td>\n",
       "      <td>Italy</td>\n",
       "      <td>2.0</td>\n",
       "      <td>3.0</td>\n",
       "      <td>UEFA Euro qualification</td>\n",
       "      <td>3000.0</td>\n",
       "      <td>1600.0</td>\n",
       "      <td>-2000.0</td>\n",
       "    </tr>\n",
       "    <tr>\n",
       "      <th>1</th>\n",
       "      <td>2019-08-29</td>\n",
       "      <td>Lithuania</td>\n",
       "      <td>Croatia</td>\n",
       "      <td>1.0</td>\n",
       "      <td>2.0</td>\n",
       "      <td>UEFA Euro qualification</td>\n",
       "      <td>2150.0</td>\n",
       "      <td>900.0</td>\n",
       "      <td>-1000.0</td>\n",
       "    </tr>\n",
       "    <tr>\n",
       "      <th>2</th>\n",
       "      <td>2019-08-29</td>\n",
       "      <td>Faroe Islands</td>\n",
       "      <td>Wales</td>\n",
       "      <td>0.0</td>\n",
       "      <td>6.0</td>\n",
       "      <td>UEFA Euro qualification</td>\n",
       "      <td>3300.0</td>\n",
       "      <td>1200.0</td>\n",
       "      <td>-1429.0</td>\n",
       "    </tr>\n",
       "    <tr>\n",
       "      <th>3</th>\n",
       "      <td>2019-08-29</td>\n",
       "      <td>Denmark</td>\n",
       "      <td>Malta</td>\n",
       "      <td>8.0</td>\n",
       "      <td>0.0</td>\n",
       "      <td>UEFA Euro qualification</td>\n",
       "      <td>-10000.0</td>\n",
       "      <td>1825.0</td>\n",
       "      <td>4200.0</td>\n",
       "    </tr>\n",
       "    <tr>\n",
       "      <th>4</th>\n",
       "      <td>2019-08-29</td>\n",
       "      <td>Iceland</td>\n",
       "      <td>Hungary</td>\n",
       "      <td>4.0</td>\n",
       "      <td>1.0</td>\n",
       "      <td>UEFA Euro qualification</td>\n",
       "      <td>-714.0</td>\n",
       "      <td>760.0</td>\n",
       "      <td>1625.0</td>\n",
       "    </tr>\n",
       "    <tr>\n",
       "      <th>...</th>\n",
       "      <td>...</td>\n",
       "      <td>...</td>\n",
       "      <td>...</td>\n",
       "      <td>...</td>\n",
       "      <td>...</td>\n",
       "      <td>...</td>\n",
       "      <td>...</td>\n",
       "      <td>...</td>\n",
       "      <td>...</td>\n",
       "    </tr>\n",
       "    <tr>\n",
       "      <th>383</th>\n",
       "      <td>2022-06-27</td>\n",
       "      <td>Georgia</td>\n",
       "      <td>Republic of Ireland</td>\n",
       "      <td>0.0</td>\n",
       "      <td>9.0</td>\n",
       "      <td>FIFA World Cup qualification</td>\n",
       "      <td>8400.0</td>\n",
       "      <td>8900.0</td>\n",
       "      <td>-5000.0</td>\n",
       "    </tr>\n",
       "    <tr>\n",
       "      <th>384</th>\n",
       "      <td>2022-06-28</td>\n",
       "      <td>Netherlands</td>\n",
       "      <td>Belarus</td>\n",
       "      <td>3.0</td>\n",
       "      <td>0.0</td>\n",
       "      <td>FIFA World Cup qualification</td>\n",
       "      <td>-1000.0</td>\n",
       "      <td>4000.0</td>\n",
       "      <td>9900.0</td>\n",
       "    </tr>\n",
       "    <tr>\n",
       "      <th>385</th>\n",
       "      <td>2022-06-28</td>\n",
       "      <td>Estonia</td>\n",
       "      <td>Kazakhstan</td>\n",
       "      <td>4.0</td>\n",
       "      <td>2.0</td>\n",
       "      <td>FIFA World Cup qualification</td>\n",
       "      <td>275.0</td>\n",
       "      <td>240.0</td>\n",
       "      <td>153.0</td>\n",
       "    </tr>\n",
       "    <tr>\n",
       "      <th>386</th>\n",
       "      <td>2022-06-28</td>\n",
       "      <td>Moldova</td>\n",
       "      <td>Lithuania</td>\n",
       "      <td>1.0</td>\n",
       "      <td>1.0</td>\n",
       "      <td>FIFA World Cup qualification</td>\n",
       "      <td>530.0</td>\n",
       "      <td>310.0</td>\n",
       "      <td>-145.0</td>\n",
       "    </tr>\n",
       "    <tr>\n",
       "      <th>387</th>\n",
       "      <td>2022-06-28</td>\n",
       "      <td>Ukraine</td>\n",
       "      <td>Hungary</td>\n",
       "      <td>2.0</td>\n",
       "      <td>0.0</td>\n",
       "      <td>FIFA World Cup qualification</td>\n",
       "      <td>220.0</td>\n",
       "      <td>275.0</td>\n",
       "      <td>170.0</td>\n",
       "    </tr>\n",
       "  </tbody>\n",
       "</table>\n",
       "<p>388 rows × 9 columns</p>\n",
       "</div>"
      ],
      "text/plain": [
       "           date      home_team            away_team  home_score  away_score  \\\n",
       "0    2019-08-29         Israel                Italy         2.0         3.0   \n",
       "1    2019-08-29      Lithuania              Croatia         1.0         2.0   \n",
       "2    2019-08-29  Faroe Islands                Wales         0.0         6.0   \n",
       "3    2019-08-29        Denmark                Malta         8.0         0.0   \n",
       "4    2019-08-29        Iceland              Hungary         4.0         1.0   \n",
       "..          ...            ...                  ...         ...         ...   \n",
       "383  2022-06-27        Georgia  Republic of Ireland         0.0         9.0   \n",
       "384  2022-06-28    Netherlands              Belarus         3.0         0.0   \n",
       "385  2022-06-28        Estonia           Kazakhstan         4.0         2.0   \n",
       "386  2022-06-28        Moldova            Lithuania         1.0         1.0   \n",
       "387  2022-06-28        Ukraine              Hungary         2.0         0.0   \n",
       "\n",
       "                       tournament  home_odds  draw_odds  away_odds  \n",
       "0         UEFA Euro qualification     3000.0     1600.0    -2000.0  \n",
       "1         UEFA Euro qualification     2150.0      900.0    -1000.0  \n",
       "2         UEFA Euro qualification     3300.0     1200.0    -1429.0  \n",
       "3         UEFA Euro qualification   -10000.0     1825.0     4200.0  \n",
       "4         UEFA Euro qualification     -714.0      760.0     1625.0  \n",
       "..                            ...        ...        ...        ...  \n",
       "383  FIFA World Cup qualification     8400.0     8900.0    -5000.0  \n",
       "384  FIFA World Cup qualification    -1000.0     4000.0     9900.0  \n",
       "385  FIFA World Cup qualification      275.0      240.0      153.0  \n",
       "386  FIFA World Cup qualification      530.0      310.0     -145.0  \n",
       "387  FIFA World Cup qualification      220.0      275.0      170.0  \n",
       "\n",
       "[388 rows x 9 columns]"
      ]
     },
     "execution_count": 3,
     "metadata": {},
     "output_type": "execute_result"
    }
   ],
   "source": [
    "df"
   ]
  },
  {
   "cell_type": "markdown",
   "id": "3eeabd66-4cf9-44e7-b681-1519c8a59f73",
   "metadata": {},
   "source": [
    "There are 24 teams in the 2022 Women's Euro tournament, but our data also includes European teams which did not qualify.  There are 51 total teams in our data."
   ]
  },
  {
   "cell_type": "code",
   "execution_count": 4,
   "id": "c798feae-fb4c-4c45-8a3b-3bc36194cc34",
   "metadata": {},
   "outputs": [
    {
     "data": {
      "text/plain": [
       "51"
      ]
     },
     "execution_count": 4,
     "metadata": {},
     "output_type": "execute_result"
    }
   ],
   "source": [
    "df[\"home_team\"].unique().size"
   ]
  },
  {
   "cell_type": "markdown",
   "id": "2a1575eb-e6ec-426e-82ea-92aeab8cc94b",
   "metadata": {},
   "source": [
    "We are going to estimate a value for each of the following parameters.\n",
    "\n",
    "* A rating `r_team` for each team.\n",
    "* A home field advantage rating `hfa`.\n",
    "* An additive constant `b`.\n",
    "\n",
    "The standard power ratings for American football teams (at least the power ratings I know) can be immediately interpreted in terms of spreads in games.  The values here are less easy to interpet, but as a first impression, the higher the rating, the stronger the team is considered."
   ]
  },
  {
   "cell_type": "markdown",
   "id": "84c83cb8-a373-4450-8966-d1c6f528213c",
   "metadata": {},
   "source": [
    "## Reshaping the data\n",
    "\n",
    "It will be easier to get equations from our data if we reshape it, so that there is a column for each team.  Each game will also correspond to two rows: one row from the perspective of the home team, and one row from the perspective of the away team."
   ]
  },
  {
   "cell_type": "code",
   "execution_count": 5,
   "id": "ea7ed380-74de-456d-b0d9-ad80a0a2b62c",
   "metadata": {},
   "outputs": [],
   "source": [
    "df[\"date\"] = pd.to_datetime(df[\"date\"])\n",
    "\n",
    "df_data1 = pd.get_dummies(df.home_team, dtype=np.int64) - pd.get_dummies(df.away_team, dtype=np.int64)\n",
    "df_data1[\"HFA\"] = 1\n",
    "df_data1[\"const\"] = 1\n",
    "df_data1[\"days\"] = (pd.to_datetime(\"2022-07-06\")-df.date).dt.days\n",
    "df_data1[\"Goals\"] = df[\"home_score\"]\n",
    "\n",
    "df_data2 = -df_data1.copy()\n",
    "df_data2[\"HFA\"] = 0\n",
    "df_data2[\"const\"] = 1\n",
    "df_data2[\"days\"] = (pd.to_datetime(\"2022-07-06\")-df.date).dt.days\n",
    "df_data2[\"Goals\"] = df[\"away_score\"]\n",
    "\n",
    "df_data = pd.concat([df_data1, df_data2])"
   ]
  },
  {
   "cell_type": "markdown",
   "id": "9d03eff5-6ce1-480f-ada1-646392ac16c4",
   "metadata": {},
   "source": [
    "Here is the DataFrame we just made.  (The code above might be difficult to understand, but the same thing could be made for example using a for loop, where you iterate over each match from `df`.)"
   ]
  },
  {
   "cell_type": "code",
   "execution_count": 6,
   "id": "ff9457a6-7606-46e2-8675-c2cd45f2423f",
   "metadata": {
    "tags": [
     "output_scroll"
    ]
   },
   "outputs": [
    {
     "data": {
      "text/html": [
       "<div>\n",
       "<style scoped>\n",
       "    .dataframe tbody tr th:only-of-type {\n",
       "        vertical-align: middle;\n",
       "    }\n",
       "\n",
       "    .dataframe tbody tr th {\n",
       "        vertical-align: top;\n",
       "    }\n",
       "\n",
       "    .dataframe thead th {\n",
       "        text-align: right;\n",
       "    }\n",
       "</style>\n",
       "<table border=\"1\" class=\"dataframe\">\n",
       "  <thead>\n",
       "    <tr style=\"text-align: right;\">\n",
       "      <th></th>\n",
       "      <th>Albania</th>\n",
       "      <th>Armenia</th>\n",
       "      <th>Austria</th>\n",
       "      <th>Azerbaijan</th>\n",
       "      <th>Belarus</th>\n",
       "      <th>Belgium</th>\n",
       "      <th>Bosnia-Herzegovina</th>\n",
       "      <th>Bulgaria</th>\n",
       "      <th>Croatia</th>\n",
       "      <th>Cyprus</th>\n",
       "      <th>...</th>\n",
       "      <th>Spain</th>\n",
       "      <th>Sweden</th>\n",
       "      <th>Switzerland</th>\n",
       "      <th>Turkey</th>\n",
       "      <th>Ukraine</th>\n",
       "      <th>Wales</th>\n",
       "      <th>HFA</th>\n",
       "      <th>const</th>\n",
       "      <th>days</th>\n",
       "      <th>Goals</th>\n",
       "    </tr>\n",
       "  </thead>\n",
       "  <tbody>\n",
       "    <tr>\n",
       "      <th>0</th>\n",
       "      <td>0</td>\n",
       "      <td>0</td>\n",
       "      <td>0</td>\n",
       "      <td>0</td>\n",
       "      <td>0</td>\n",
       "      <td>0</td>\n",
       "      <td>0</td>\n",
       "      <td>0</td>\n",
       "      <td>0</td>\n",
       "      <td>0</td>\n",
       "      <td>...</td>\n",
       "      <td>0</td>\n",
       "      <td>0</td>\n",
       "      <td>0</td>\n",
       "      <td>0</td>\n",
       "      <td>0</td>\n",
       "      <td>0</td>\n",
       "      <td>1</td>\n",
       "      <td>1</td>\n",
       "      <td>1042</td>\n",
       "      <td>2.0</td>\n",
       "    </tr>\n",
       "    <tr>\n",
       "      <th>1</th>\n",
       "      <td>0</td>\n",
       "      <td>0</td>\n",
       "      <td>0</td>\n",
       "      <td>0</td>\n",
       "      <td>0</td>\n",
       "      <td>0</td>\n",
       "      <td>0</td>\n",
       "      <td>0</td>\n",
       "      <td>-1</td>\n",
       "      <td>0</td>\n",
       "      <td>...</td>\n",
       "      <td>0</td>\n",
       "      <td>0</td>\n",
       "      <td>0</td>\n",
       "      <td>0</td>\n",
       "      <td>0</td>\n",
       "      <td>0</td>\n",
       "      <td>1</td>\n",
       "      <td>1</td>\n",
       "      <td>1042</td>\n",
       "      <td>1.0</td>\n",
       "    </tr>\n",
       "    <tr>\n",
       "      <th>2</th>\n",
       "      <td>0</td>\n",
       "      <td>0</td>\n",
       "      <td>0</td>\n",
       "      <td>0</td>\n",
       "      <td>0</td>\n",
       "      <td>0</td>\n",
       "      <td>0</td>\n",
       "      <td>0</td>\n",
       "      <td>0</td>\n",
       "      <td>0</td>\n",
       "      <td>...</td>\n",
       "      <td>0</td>\n",
       "      <td>0</td>\n",
       "      <td>0</td>\n",
       "      <td>0</td>\n",
       "      <td>0</td>\n",
       "      <td>-1</td>\n",
       "      <td>1</td>\n",
       "      <td>1</td>\n",
       "      <td>1042</td>\n",
       "      <td>0.0</td>\n",
       "    </tr>\n",
       "    <tr>\n",
       "      <th>3</th>\n",
       "      <td>0</td>\n",
       "      <td>0</td>\n",
       "      <td>0</td>\n",
       "      <td>0</td>\n",
       "      <td>0</td>\n",
       "      <td>0</td>\n",
       "      <td>0</td>\n",
       "      <td>0</td>\n",
       "      <td>0</td>\n",
       "      <td>0</td>\n",
       "      <td>...</td>\n",
       "      <td>0</td>\n",
       "      <td>0</td>\n",
       "      <td>0</td>\n",
       "      <td>0</td>\n",
       "      <td>0</td>\n",
       "      <td>0</td>\n",
       "      <td>1</td>\n",
       "      <td>1</td>\n",
       "      <td>1042</td>\n",
       "      <td>8.0</td>\n",
       "    </tr>\n",
       "    <tr>\n",
       "      <th>4</th>\n",
       "      <td>0</td>\n",
       "      <td>0</td>\n",
       "      <td>0</td>\n",
       "      <td>0</td>\n",
       "      <td>0</td>\n",
       "      <td>0</td>\n",
       "      <td>0</td>\n",
       "      <td>0</td>\n",
       "      <td>0</td>\n",
       "      <td>0</td>\n",
       "      <td>...</td>\n",
       "      <td>0</td>\n",
       "      <td>0</td>\n",
       "      <td>0</td>\n",
       "      <td>0</td>\n",
       "      <td>0</td>\n",
       "      <td>0</td>\n",
       "      <td>1</td>\n",
       "      <td>1</td>\n",
       "      <td>1042</td>\n",
       "      <td>4.0</td>\n",
       "    </tr>\n",
       "    <tr>\n",
       "      <th>...</th>\n",
       "      <td>...</td>\n",
       "      <td>...</td>\n",
       "      <td>...</td>\n",
       "      <td>...</td>\n",
       "      <td>...</td>\n",
       "      <td>...</td>\n",
       "      <td>...</td>\n",
       "      <td>...</td>\n",
       "      <td>...</td>\n",
       "      <td>...</td>\n",
       "      <td>...</td>\n",
       "      <td>...</td>\n",
       "      <td>...</td>\n",
       "      <td>...</td>\n",
       "      <td>...</td>\n",
       "      <td>...</td>\n",
       "      <td>...</td>\n",
       "      <td>...</td>\n",
       "      <td>...</td>\n",
       "      <td>...</td>\n",
       "      <td>...</td>\n",
       "    </tr>\n",
       "    <tr>\n",
       "      <th>383</th>\n",
       "      <td>0</td>\n",
       "      <td>0</td>\n",
       "      <td>0</td>\n",
       "      <td>0</td>\n",
       "      <td>0</td>\n",
       "      <td>0</td>\n",
       "      <td>0</td>\n",
       "      <td>0</td>\n",
       "      <td>0</td>\n",
       "      <td>0</td>\n",
       "      <td>...</td>\n",
       "      <td>0</td>\n",
       "      <td>0</td>\n",
       "      <td>0</td>\n",
       "      <td>0</td>\n",
       "      <td>0</td>\n",
       "      <td>0</td>\n",
       "      <td>0</td>\n",
       "      <td>1</td>\n",
       "      <td>9</td>\n",
       "      <td>9.0</td>\n",
       "    </tr>\n",
       "    <tr>\n",
       "      <th>384</th>\n",
       "      <td>0</td>\n",
       "      <td>0</td>\n",
       "      <td>0</td>\n",
       "      <td>0</td>\n",
       "      <td>1</td>\n",
       "      <td>0</td>\n",
       "      <td>0</td>\n",
       "      <td>0</td>\n",
       "      <td>0</td>\n",
       "      <td>0</td>\n",
       "      <td>...</td>\n",
       "      <td>0</td>\n",
       "      <td>0</td>\n",
       "      <td>0</td>\n",
       "      <td>0</td>\n",
       "      <td>0</td>\n",
       "      <td>0</td>\n",
       "      <td>0</td>\n",
       "      <td>1</td>\n",
       "      <td>8</td>\n",
       "      <td>0.0</td>\n",
       "    </tr>\n",
       "    <tr>\n",
       "      <th>385</th>\n",
       "      <td>0</td>\n",
       "      <td>0</td>\n",
       "      <td>0</td>\n",
       "      <td>0</td>\n",
       "      <td>0</td>\n",
       "      <td>0</td>\n",
       "      <td>0</td>\n",
       "      <td>0</td>\n",
       "      <td>0</td>\n",
       "      <td>0</td>\n",
       "      <td>...</td>\n",
       "      <td>0</td>\n",
       "      <td>0</td>\n",
       "      <td>0</td>\n",
       "      <td>0</td>\n",
       "      <td>0</td>\n",
       "      <td>0</td>\n",
       "      <td>0</td>\n",
       "      <td>1</td>\n",
       "      <td>8</td>\n",
       "      <td>2.0</td>\n",
       "    </tr>\n",
       "    <tr>\n",
       "      <th>386</th>\n",
       "      <td>0</td>\n",
       "      <td>0</td>\n",
       "      <td>0</td>\n",
       "      <td>0</td>\n",
       "      <td>0</td>\n",
       "      <td>0</td>\n",
       "      <td>0</td>\n",
       "      <td>0</td>\n",
       "      <td>0</td>\n",
       "      <td>0</td>\n",
       "      <td>...</td>\n",
       "      <td>0</td>\n",
       "      <td>0</td>\n",
       "      <td>0</td>\n",
       "      <td>0</td>\n",
       "      <td>0</td>\n",
       "      <td>0</td>\n",
       "      <td>0</td>\n",
       "      <td>1</td>\n",
       "      <td>8</td>\n",
       "      <td>1.0</td>\n",
       "    </tr>\n",
       "    <tr>\n",
       "      <th>387</th>\n",
       "      <td>0</td>\n",
       "      <td>0</td>\n",
       "      <td>0</td>\n",
       "      <td>0</td>\n",
       "      <td>0</td>\n",
       "      <td>0</td>\n",
       "      <td>0</td>\n",
       "      <td>0</td>\n",
       "      <td>0</td>\n",
       "      <td>0</td>\n",
       "      <td>...</td>\n",
       "      <td>0</td>\n",
       "      <td>0</td>\n",
       "      <td>0</td>\n",
       "      <td>0</td>\n",
       "      <td>-1</td>\n",
       "      <td>0</td>\n",
       "      <td>0</td>\n",
       "      <td>1</td>\n",
       "      <td>8</td>\n",
       "      <td>0.0</td>\n",
       "    </tr>\n",
       "  </tbody>\n",
       "</table>\n",
       "<p>776 rows × 55 columns</p>\n",
       "</div>"
      ],
      "text/plain": [
       "     Albania  Armenia  Austria  Azerbaijan  Belarus  Belgium  \\\n",
       "0          0        0        0           0        0        0   \n",
       "1          0        0        0           0        0        0   \n",
       "2          0        0        0           0        0        0   \n",
       "3          0        0        0           0        0        0   \n",
       "4          0        0        0           0        0        0   \n",
       "..       ...      ...      ...         ...      ...      ...   \n",
       "383        0        0        0           0        0        0   \n",
       "384        0        0        0           0        1        0   \n",
       "385        0        0        0           0        0        0   \n",
       "386        0        0        0           0        0        0   \n",
       "387        0        0        0           0        0        0   \n",
       "\n",
       "     Bosnia-Herzegovina  Bulgaria  Croatia  Cyprus  ...  Spain  Sweden  \\\n",
       "0                     0         0        0       0  ...      0       0   \n",
       "1                     0         0       -1       0  ...      0       0   \n",
       "2                     0         0        0       0  ...      0       0   \n",
       "3                     0         0        0       0  ...      0       0   \n",
       "4                     0         0        0       0  ...      0       0   \n",
       "..                  ...       ...      ...     ...  ...    ...     ...   \n",
       "383                   0         0        0       0  ...      0       0   \n",
       "384                   0         0        0       0  ...      0       0   \n",
       "385                   0         0        0       0  ...      0       0   \n",
       "386                   0         0        0       0  ...      0       0   \n",
       "387                   0         0        0       0  ...      0       0   \n",
       "\n",
       "     Switzerland  Turkey  Ukraine  Wales  HFA  const  days  Goals  \n",
       "0              0       0        0      0    1      1  1042    2.0  \n",
       "1              0       0        0      0    1      1  1042    1.0  \n",
       "2              0       0        0     -1    1      1  1042    0.0  \n",
       "3              0       0        0      0    1      1  1042    8.0  \n",
       "4              0       0        0      0    1      1  1042    4.0  \n",
       "..           ...     ...      ...    ...  ...    ...   ...    ...  \n",
       "383            0       0        0      0    0      1     9    9.0  \n",
       "384            0       0        0      0    0      1     8    0.0  \n",
       "385            0       0        0      0    0      1     8    2.0  \n",
       "386            0       0        0      0    0      1     8    1.0  \n",
       "387            0       0       -1      0    0      1     8    0.0  \n",
       "\n",
       "[776 rows x 55 columns]"
      ]
     },
     "execution_count": 6,
     "metadata": {},
     "output_type": "execute_result"
    }
   ],
   "source": [
    "df_data"
   ]
  },
  {
   "cell_type": "markdown",
   "id": "32135700-b71e-457a-8418-10dfeed005b8",
   "metadata": {},
   "source": [
    "Let's focus on two of the rows, both from the same game.  In this game, Moldova was home against Romania.  (**Warning**. It's possible that in this dataset, some teams are incorrectly identified as home teams when it was at a neutral location.)\n",
    "\n",
    "In the two rows displayed below, the top row is from Moldova's perspective.  The match was played on June 24, 2022, and the 12 in the \"days\" column refers to the number of days before the start of the Euro tournament.  This match ended 0-4, with Moldova losing to Romania."
   ]
  },
  {
   "cell_type": "code",
   "execution_count": 7,
   "id": "0d746a7b-8619-4f1a-8818-efb34f0aed08",
   "metadata": {
    "tags": [
     "output_scroll"
    ]
   },
   "outputs": [
    {
     "data": {
      "text/html": [
       "<div>\n",
       "<style scoped>\n",
       "    .dataframe tbody tr th:only-of-type {\n",
       "        vertical-align: middle;\n",
       "    }\n",
       "\n",
       "    .dataframe tbody tr th {\n",
       "        vertical-align: top;\n",
       "    }\n",
       "\n",
       "    .dataframe thead th {\n",
       "        text-align: right;\n",
       "    }\n",
       "</style>\n",
       "<table border=\"1\" class=\"dataframe\">\n",
       "  <thead>\n",
       "    <tr style=\"text-align: right;\">\n",
       "      <th></th>\n",
       "      <th>Albania</th>\n",
       "      <th>Armenia</th>\n",
       "      <th>Austria</th>\n",
       "      <th>Azerbaijan</th>\n",
       "      <th>Belarus</th>\n",
       "      <th>Belgium</th>\n",
       "      <th>Bosnia-Herzegovina</th>\n",
       "      <th>Bulgaria</th>\n",
       "      <th>Croatia</th>\n",
       "      <th>Cyprus</th>\n",
       "      <th>Czech Republic</th>\n",
       "      <th>Denmark</th>\n",
       "      <th>England</th>\n",
       "      <th>Estonia</th>\n",
       "      <th>Faroe Islands</th>\n",
       "      <th>Finland</th>\n",
       "      <th>France</th>\n",
       "      <th>Georgia</th>\n",
       "      <th>Germany</th>\n",
       "      <th>Greece</th>\n",
       "      <th>Hungary</th>\n",
       "      <th>Iceland</th>\n",
       "      <th>Israel</th>\n",
       "      <th>Italy</th>\n",
       "      <th>Kazakhstan</th>\n",
       "      <th>Kosovo</th>\n",
       "      <th>Latvia</th>\n",
       "      <th>Lithuania</th>\n",
       "      <th>Luxembourg</th>\n",
       "      <th>Malta</th>\n",
       "      <th>Moldova</th>\n",
       "      <th>Montenegro</th>\n",
       "      <th>Netherlands</th>\n",
       "      <th>North Macedonia</th>\n",
       "      <th>Northern Ireland</th>\n",
       "      <th>Norway</th>\n",
       "      <th>Poland</th>\n",
       "      <th>Portugal</th>\n",
       "      <th>Republic of Ireland</th>\n",
       "      <th>Romania</th>\n",
       "      <th>Russia</th>\n",
       "      <th>Scotland</th>\n",
       "      <th>Serbia</th>\n",
       "      <th>Slovakia</th>\n",
       "      <th>Slovenia</th>\n",
       "      <th>Spain</th>\n",
       "      <th>Sweden</th>\n",
       "      <th>Switzerland</th>\n",
       "      <th>Turkey</th>\n",
       "      <th>Ukraine</th>\n",
       "      <th>Wales</th>\n",
       "      <th>HFA</th>\n",
       "      <th>const</th>\n",
       "      <th>days</th>\n",
       "      <th>Goals</th>\n",
       "    </tr>\n",
       "  </thead>\n",
       "  <tbody>\n",
       "    <tr>\n",
       "      <th>380</th>\n",
       "      <td>0</td>\n",
       "      <td>0</td>\n",
       "      <td>0</td>\n",
       "      <td>0</td>\n",
       "      <td>0</td>\n",
       "      <td>0</td>\n",
       "      <td>0</td>\n",
       "      <td>0</td>\n",
       "      <td>0</td>\n",
       "      <td>0</td>\n",
       "      <td>0</td>\n",
       "      <td>0</td>\n",
       "      <td>0</td>\n",
       "      <td>0</td>\n",
       "      <td>0</td>\n",
       "      <td>0</td>\n",
       "      <td>0</td>\n",
       "      <td>0</td>\n",
       "      <td>0</td>\n",
       "      <td>0</td>\n",
       "      <td>0</td>\n",
       "      <td>0</td>\n",
       "      <td>0</td>\n",
       "      <td>0</td>\n",
       "      <td>0</td>\n",
       "      <td>0</td>\n",
       "      <td>0</td>\n",
       "      <td>0</td>\n",
       "      <td>0</td>\n",
       "      <td>0</td>\n",
       "      <td>1</td>\n",
       "      <td>0</td>\n",
       "      <td>0</td>\n",
       "      <td>0</td>\n",
       "      <td>0</td>\n",
       "      <td>0</td>\n",
       "      <td>0</td>\n",
       "      <td>0</td>\n",
       "      <td>0</td>\n",
       "      <td>-1</td>\n",
       "      <td>0</td>\n",
       "      <td>0</td>\n",
       "      <td>0</td>\n",
       "      <td>0</td>\n",
       "      <td>0</td>\n",
       "      <td>0</td>\n",
       "      <td>0</td>\n",
       "      <td>0</td>\n",
       "      <td>0</td>\n",
       "      <td>0</td>\n",
       "      <td>0</td>\n",
       "      <td>1</td>\n",
       "      <td>1</td>\n",
       "      <td>12</td>\n",
       "      <td>0.0</td>\n",
       "    </tr>\n",
       "    <tr>\n",
       "      <th>380</th>\n",
       "      <td>0</td>\n",
       "      <td>0</td>\n",
       "      <td>0</td>\n",
       "      <td>0</td>\n",
       "      <td>0</td>\n",
       "      <td>0</td>\n",
       "      <td>0</td>\n",
       "      <td>0</td>\n",
       "      <td>0</td>\n",
       "      <td>0</td>\n",
       "      <td>0</td>\n",
       "      <td>0</td>\n",
       "      <td>0</td>\n",
       "      <td>0</td>\n",
       "      <td>0</td>\n",
       "      <td>0</td>\n",
       "      <td>0</td>\n",
       "      <td>0</td>\n",
       "      <td>0</td>\n",
       "      <td>0</td>\n",
       "      <td>0</td>\n",
       "      <td>0</td>\n",
       "      <td>0</td>\n",
       "      <td>0</td>\n",
       "      <td>0</td>\n",
       "      <td>0</td>\n",
       "      <td>0</td>\n",
       "      <td>0</td>\n",
       "      <td>0</td>\n",
       "      <td>0</td>\n",
       "      <td>-1</td>\n",
       "      <td>0</td>\n",
       "      <td>0</td>\n",
       "      <td>0</td>\n",
       "      <td>0</td>\n",
       "      <td>0</td>\n",
       "      <td>0</td>\n",
       "      <td>0</td>\n",
       "      <td>0</td>\n",
       "      <td>1</td>\n",
       "      <td>0</td>\n",
       "      <td>0</td>\n",
       "      <td>0</td>\n",
       "      <td>0</td>\n",
       "      <td>0</td>\n",
       "      <td>0</td>\n",
       "      <td>0</td>\n",
       "      <td>0</td>\n",
       "      <td>0</td>\n",
       "      <td>0</td>\n",
       "      <td>0</td>\n",
       "      <td>0</td>\n",
       "      <td>1</td>\n",
       "      <td>12</td>\n",
       "      <td>4.0</td>\n",
       "    </tr>\n",
       "  </tbody>\n",
       "</table>\n",
       "</div>"
      ],
      "text/plain": [
       "     Albania  Armenia  Austria  Azerbaijan  Belarus  Belgium  \\\n",
       "380        0        0        0           0        0        0   \n",
       "380        0        0        0           0        0        0   \n",
       "\n",
       "     Bosnia-Herzegovina  Bulgaria  Croatia  Cyprus  Czech Republic  Denmark  \\\n",
       "380                   0         0        0       0               0        0   \n",
       "380                   0         0        0       0               0        0   \n",
       "\n",
       "     England  Estonia  Faroe Islands  Finland  France  Georgia  Germany  \\\n",
       "380        0        0              0        0       0        0        0   \n",
       "380        0        0              0        0       0        0        0   \n",
       "\n",
       "     Greece  Hungary  Iceland  Israel  Italy  Kazakhstan  Kosovo  Latvia  \\\n",
       "380       0        0        0       0      0           0       0       0   \n",
       "380       0        0        0       0      0           0       0       0   \n",
       "\n",
       "     Lithuania  Luxembourg  Malta  Moldova  Montenegro  Netherlands  \\\n",
       "380          0           0      0        1           0            0   \n",
       "380          0           0      0       -1           0            0   \n",
       "\n",
       "     North Macedonia  Northern Ireland  Norway  Poland  Portugal  \\\n",
       "380                0                 0       0       0         0   \n",
       "380                0                 0       0       0         0   \n",
       "\n",
       "     Republic of Ireland  Romania  Russia  Scotland  Serbia  Slovakia  \\\n",
       "380                    0       -1       0         0       0         0   \n",
       "380                    0        1       0         0       0         0   \n",
       "\n",
       "     Slovenia  Spain  Sweden  Switzerland  Turkey  Ukraine  Wales  HFA  const  \\\n",
       "380         0      0       0            0       0        0      0    1      1   \n",
       "380         0      0       0            0       0        0      0    0      1   \n",
       "\n",
       "     days  Goals  \n",
       "380    12    0.0  \n",
       "380    12    4.0  "
      ]
     },
     "metadata": {},
     "output_type": "display_data"
    }
   ],
   "source": [
    "with pd.option_context('display.max_columns', None):\n",
    "    display(df_data.loc[380])"
   ]
  },
  {
   "cell_type": "markdown",
   "id": "1d7e469e-8683-4c4c-8733-9276c0294211",
   "metadata": {},
   "source": [
    "## Setting up the data\n",
    "\n",
    "In the eventual formula, we will always subtract the opponent's power rating, so there are not uniquely determined \"best\" power ratings (if you add 4 to each power rating, you will end up with the exact same predictions).  To normalize things, we will remove Albania from the computation (which is equivalent to forcing Albania to have a power rating of 0).\n",
    "\n",
    "We will also remove the \"days\" column (because we will not solve for that), and we will remove the \"goals\" column, because that is our target."
   ]
  },
  {
   "cell_type": "code",
   "execution_count": 8,
   "id": "f53b6d03-54ce-4b60-be07-5986cf9240b0",
   "metadata": {},
   "outputs": [],
   "source": [
    "ind_cols = df_data.columns[1:-2]"
   ]
  },
  {
   "cell_type": "markdown",
   "id": "1d4df943-8381-4991-9cad-1292aa1506b4",
   "metadata": {},
   "source": [
    "We are going to estimate a value for each of the following."
   ]
  },
  {
   "cell_type": "code",
   "execution_count": 9,
   "id": "bb648a72-b13d-41d3-be4d-8a678b53a212",
   "metadata": {},
   "outputs": [
    {
     "data": {
      "text/plain": [
       "Index(['Armenia', 'Austria', 'Azerbaijan', 'Belarus', 'Belgium',\n",
       "       'Bosnia-Herzegovina', 'Bulgaria', 'Croatia', 'Cyprus', 'Czech Republic',\n",
       "       'Denmark', 'England', 'Estonia', 'Faroe Islands', 'Finland', 'France',\n",
       "       'Georgia', 'Germany', 'Greece', 'Hungary', 'Iceland', 'Israel', 'Italy',\n",
       "       'Kazakhstan', 'Kosovo', 'Latvia', 'Lithuania', 'Luxembourg', 'Malta',\n",
       "       'Moldova', 'Montenegro', 'Netherlands', 'North Macedonia',\n",
       "       'Northern Ireland', 'Norway', 'Poland', 'Portugal',\n",
       "       'Republic of Ireland', 'Romania', 'Russia', 'Scotland', 'Serbia',\n",
       "       'Slovakia', 'Slovenia', 'Spain', 'Sweden', 'Switzerland', 'Turkey',\n",
       "       'Ukraine', 'Wales', 'HFA', 'const'],\n",
       "      dtype='object')"
      ]
     },
     "execution_count": 9,
     "metadata": {},
     "output_type": "execute_result"
    }
   ],
   "source": [
    "ind_cols"
   ]
  },
  {
   "cell_type": "markdown",
   "id": "346b6699-b01e-4dee-b2ad-9508bfbf193e",
   "metadata": {},
   "source": [
    "Our computation method is based on NumPy objects, not pandas DataFrames, so we take the desired columns from `df_data` and convert the result to a NumPy array."
   ]
  },
  {
   "cell_type": "code",
   "execution_count": 10,
   "id": "1aef0df2-1434-428b-aa2b-19250ba04f02",
   "metadata": {},
   "outputs": [],
   "source": [
    "A = df_data[ind_cols].to_numpy()"
   ]
  },
  {
   "cell_type": "markdown",
   "id": "bb67b131-0102-4c1e-b614-4f7015826000",
   "metadata": {},
   "source": [
    "As our initial guess, we will initialize all of the values to 1."
   ]
  },
  {
   "cell_type": "code",
   "execution_count": 11,
   "id": "299218d1-9004-4792-8e7c-b411b986b067",
   "metadata": {},
   "outputs": [],
   "source": [
    "X = np.ones_like(ind_cols, dtype=np.float64)"
   ]
  },
  {
   "cell_type": "code",
   "execution_count": 12,
   "id": "8e0397b5-0bd9-4adc-9dbb-94b4e8a346c2",
   "metadata": {},
   "outputs": [
    {
     "data": {
      "text/plain": [
       "array([1., 1., 1., 1., 1., 1., 1., 1., 1., 1., 1., 1., 1., 1., 1., 1., 1.,\n",
       "       1., 1., 1., 1., 1., 1., 1., 1., 1., 1., 1., 1., 1., 1., 1., 1., 1.,\n",
       "       1., 1., 1., 1., 1., 1., 1., 1., 1., 1., 1., 1., 1., 1., 1., 1., 1.,\n",
       "       1.])"
      ]
     },
     "execution_count": 12,
     "metadata": {},
     "output_type": "execute_result"
    }
   ],
   "source": [
    "X"
   ]
  },
  {
   "cell_type": "markdown",
   "id": "3ef3e394-0aa0-4910-ae9e-1071e1c1b83a",
   "metadata": {},
   "source": [
    "We removed the \"days\" column and the \"Goals\" column from our DataFrame above.  Let's get access to these values, and again convert to NumPy objects."
   ]
  },
  {
   "cell_type": "code",
   "execution_count": 13,
   "id": "31f5efa0-5259-4b61-94c3-caece5397d1d",
   "metadata": {},
   "outputs": [],
   "source": [
    "days = df_data[\"days\"].to_numpy()\n",
    "goals = df_data[\"Goals\"].to_numpy()"
   ]
  },
  {
   "cell_type": "markdown",
   "id": "73c39483-5d1a-4b18-afaa-df33f2887b8f",
   "metadata": {},
   "source": [
    "## Computing the power ratings\n",
    "\n",
    "Our computation is of the parameter values is based on Section 3.3 of [Prediction of the FIFA World Cup 2018](https://www.researchgate.net/publication/325683270_Prediction_of_the_FIFA_World_Cup_2018_-_A_random_forest_approach_with_an_emphasis_on_estimated_team_ability_parameters) by Groll, Ley, Schauberger, Eetvelde.  (**Warning**.  The point of that paper is to suggest a better approach than what we are doing here.)\n",
    "\n",
    "The following function represents (the negative logarithm of) equation (5) from that section.  (The formula looks very complicated, but most of the complication comes from the Poisson distribution.  Getting from the Poisson distribution to this formula is not as difficult.)  We initially parametrized `X` to be an array of all 1s.  We want to find the value of `X` which minimizes the following.\n",
    "\n",
    "The parameter `h` represents how much we emphasize recent games.  The smaller the value of `h`, the more we emphasize recent games.  This value of 60 is quite small.  Even a value like 1000 would be reasonable.  Among smallish values (less than one year, 365), 60 seemed to perform the best in my testing, but it is admittedly not a well-motivated choice.  Large values like 1000 also performed similarly well.  You could get a more \"pure\" rating and a slightly simpler equation by removing this dependence on days completely."
   ]
  },
  {
   "cell_type": "code",
   "execution_count": 14,
   "id": "ef15ded4-6377-4f30-9357-beda6b86e914",
   "metadata": {},
   "outputs": [],
   "source": [
    "h = 60\n",
    "\n",
    "def log_likelihood(X):\n",
    "    X1 = A.dot(X)\n",
    "    return -((1/2)**(days/h)*(X1*goals - np.log(factorial(goals)) - np.exp(X1))).sum()"
   ]
  },
  {
   "cell_type": "markdown",
   "id": "ff70ffb8-8a51-4bcf-b121-718a27cbde0b",
   "metadata": {},
   "source": [
    "With this setup, it is surprisingly easy to get parameter estimates for `X`.\n",
    "\n",
    "We imported the `minimize` function from SciPy at the top of this notebook.  (Unfortunately I can't locate the blog post where I learned how to do this in Python.  I know [this article](https://journals.sagepub.com/doi/full/10.1177/1471082X18817650) by several of the same authors explicitly mentions the BFGS algorithm that we specify.)"
   ]
  },
  {
   "cell_type": "code",
   "execution_count": 15,
   "id": "e668ded4-a484-44e2-83bd-4d4afff7662d",
   "metadata": {},
   "outputs": [
    {
     "name": "stdout",
     "output_type": "stream",
     "text": [
      "Optimization terminated successfully.\n",
      "         Current function value: 82.573450\n",
      "         Iterations: 90\n",
      "         Function evaluations: 6148\n",
      "         Gradient evaluations: 116\n"
     ]
    }
   ],
   "source": [
    "res = minimize(log_likelihood, X, method='BFGS', options={'disp': True})"
   ]
  },
  {
   "cell_type": "markdown",
   "id": "6e078c00-5ee5-4e5f-b1c3-7ce7734da5d9",
   "metadata": {},
   "source": [
    "Here are the computed power ratings.  Notice that the home-field advantage parameter and the additive constant are mixed in with the country ratings."
   ]
  },
  {
   "cell_type": "code",
   "execution_count": 16,
   "id": "607d2437-af1e-4874-9bc9-6259608af05a",
   "metadata": {},
   "outputs": [],
   "source": [
    "ratings = pd.Series(res.x, index=ind_cols).sort_values(ascending=False)"
   ]
  },
  {
   "cell_type": "code",
   "execution_count": 17,
   "id": "fa261e31-1411-4085-9e73-19bef2c8d3da",
   "metadata": {},
   "outputs": [
    {
     "data": {
      "text/plain": [
       "England                1.818341\n",
       "Spain                  1.805690\n",
       "Belgium                1.564538\n",
       "Sweden                 1.486001\n",
       "Italy                  1.432286\n",
       "Netherlands            1.398150\n",
       "Iceland                1.363971\n",
       "Scotland               1.218321\n",
       "Norway                 1.215415\n",
       "Austria                1.211231\n",
       "Republic of Ireland    1.193398\n",
       "Germany                1.159227\n",
       "Switzerland            1.094898\n",
       "France                 1.081583\n",
       "Serbia                 0.895214\n",
       "Poland                 0.879161\n",
       "Denmark                0.749340\n",
       "Romania                0.639400\n",
       "Northern Ireland       0.637515\n",
       "Russia                 0.572936\n",
       "Finland                0.564222\n",
       "Wales                  0.542317\n",
       "Slovenia               0.509966\n",
       "Slovakia               0.450723\n",
       "Czech Republic         0.415839\n",
       "Belarus                0.328000\n",
       "Portugal               0.319649\n",
       "HFA                    0.278229\n",
       "Ukraine                0.180158\n",
       "Hungary                0.143349\n",
       "Greece                 0.045646\n",
       "Croatia               -0.025680\n",
       "const                 -0.032447\n",
       "Bosnia-Herzegovina    -0.091075\n",
       "Kosovo                -0.108551\n",
       "Israel                -0.138964\n",
       "Turkey                -0.246921\n",
       "Lithuania             -0.278453\n",
       "Azerbaijan            -0.304917\n",
       "Malta                 -0.396945\n",
       "Estonia               -0.620776\n",
       "Montenegro            -0.624960\n",
       "Luxembourg            -0.666782\n",
       "Latvia                -0.673109\n",
       "Cyprus                -0.711888\n",
       "North Macedonia       -0.713501\n",
       "Moldova               -0.774991\n",
       "Kazakhstan            -0.846161\n",
       "Bulgaria              -0.862780\n",
       "Faroe Islands         -1.057288\n",
       "Georgia               -1.059363\n",
       "Armenia               -1.262190\n",
       "dtype: float64"
      ]
     },
     "execution_count": 17,
     "metadata": {},
     "output_type": "execute_result"
    }
   ],
   "source": [
    "ratings"
   ]
  },
  {
   "cell_type": "markdown",
   "id": "6dad1593-6ecb-439f-bd95-5ade049a154f",
   "metadata": {},
   "source": [
    "(example-computation)=\n",
    "## Example computation\n",
    "\n",
    "The above calculations are based on modeling the number of goals scored (by a single team) using a [Poisson distribution](https://en.wikipedia.org/wiki/Poisson_distribution).  To describe a Poisson distribution, all that is needed is to specify the mean $\\lambda$.  The above power ratings relate to this $\\lambda$ by the following formula, which is equation (4) in the above mentioned paper [Prediction of the FIFA World Cup 2018](https://www.researchgate.net/publication/325683270_Prediction_of_the_FIFA_World_Cup_2018_-_A_random_forest_approach_with_an_emphasis_on_estimated_team_ability_parameters).\n",
    "\n",
    "$$\n",
    "\\log(\\lambda) = b+r_1-r_2+\\text{hfa}.\n",
    "$$\n",
    "\n",
    "Here is a quick example of how to use these ratings.  Say we want to estimate how many goals will be scored if the Netherlands plays at home against Denmark. "
   ]
  },
  {
   "cell_type": "code",
   "execution_count": 18,
   "id": "1fd87f6e-acd0-4999-bb46-41b909a6d915",
   "metadata": {},
   "outputs": [],
   "source": [
    "b = ratings[\"const\"]\n",
    "r1 = ratings[\"Netherlands\"]\n",
    "r2 = ratings[\"Denmark\"]\n",
    "hfa = ratings[\"HFA\"]"
   ]
  },
  {
   "cell_type": "markdown",
   "id": "1b0754db-2616-4f40-ba3b-0b44780cf45d",
   "metadata": {},
   "source": [
    "Here is our estimate for the expected number of goals scored by the Netherlands."
   ]
  },
  {
   "cell_type": "code",
   "execution_count": 19,
   "id": "468b8046-fdac-4ada-99d6-b7a21c547709",
   "metadata": {},
   "outputs": [],
   "source": [
    "lam_neth = np.exp(b+r1-r2+hfa)"
   ]
  },
  {
   "cell_type": "code",
   "execution_count": 20,
   "id": "a58ad106-ffbe-4195-ba3a-261a5ea430e9",
   "metadata": {},
   "outputs": [
    {
     "data": {
      "text/plain": [
       "2.446335638651978"
      ]
     },
     "execution_count": 20,
     "metadata": {},
     "output_type": "execute_result"
    }
   ],
   "source": [
    "lam_neth"
   ]
  },
  {
   "cell_type": "markdown",
   "id": "c26b308d-6e4e-43e7-a620-76462655e8c0",
   "metadata": {},
   "source": [
    "The same thing for Denmark.  (In this computation, we leave out homefield advantage.)"
   ]
  },
  {
   "cell_type": "code",
   "execution_count": 21,
   "id": "4256b538-565a-47d5-8c49-16f1bbfe2064",
   "metadata": {},
   "outputs": [],
   "source": [
    "lam_dk = np.exp(b+r2-r1)"
   ]
  },
  {
   "cell_type": "code",
   "execution_count": 22,
   "id": "faa40e06-b23a-4923-9a1c-1a229bdb2896",
   "metadata": {},
   "outputs": [
    {
     "data": {
      "text/plain": [
       "0.5059809113680493"
      ]
     },
     "execution_count": 22,
     "metadata": {},
     "output_type": "execute_result"
    }
   ],
   "source": [
    "lam_dk"
   ]
  },
  {
   "cell_type": "markdown",
   "id": "4004dc34-f3b0-457f-ba61-17f2e2a2bc87",
   "metadata": {},
   "source": [
    "If instead we want to know, what is the probability that the Netherlands wins against Denmark at home, we can simulate for example 10,000,000 matches as follows."
   ]
  },
  {
   "cell_type": "code",
   "execution_count": 23,
   "id": "5d8b62cd-48a4-4297-aa17-1cbdf835710b",
   "metadata": {},
   "outputs": [],
   "source": [
    "rng = np.random.default_rng(seed=0)\n",
    "\n",
    "n = 10**7\n",
    "scores = rng.poisson(lam=(lam_neth, lam_dk), size=(n,2))"
   ]
  },
  {
   "cell_type": "markdown",
   "id": "fda13590-2137-4fb7-90be-7c73adeab514",
   "metadata": {},
   "source": [
    "For example, in the first 3 matches in our simulation, the Netherlands won all three, with scores of 2-0, 7-1, and 3-0."
   ]
  },
  {
   "cell_type": "code",
   "execution_count": 24,
   "id": "da1081ba-8370-4d20-819d-a0e7931b11b7",
   "metadata": {},
   "outputs": [
    {
     "data": {
      "text/plain": [
       "array([[2, 0],\n",
       "       [7, 1],\n",
       "       [3, 0]])"
      ]
     },
     "execution_count": 24,
     "metadata": {},
     "output_type": "execute_result"
    }
   ],
   "source": [
    "scores[:3]"
   ]
  },
  {
   "cell_type": "markdown",
   "id": "f3d6abd4-dcdc-4f7a-8333-055b16637e19",
   "metadata": {},
   "source": [
    "Here is the probability corresponding to all ten million matches in the simulation."
   ]
  },
  {
   "cell_type": "code",
   "execution_count": 25,
   "id": "1e9aae49-9bdf-41d0-8a42-928f6fb1a02a",
   "metadata": {},
   "outputs": [
    {
     "data": {
      "text/plain": [
       "0.8019058"
      ]
     },
     "execution_count": 25,
     "metadata": {},
     "output_type": "execute_result"
    }
   ],
   "source": [
    "np.count_nonzero(scores[:,0] > scores[:,1])/n"
   ]
  },
  {
   "cell_type": "code",
   "execution_count": 26,
   "id": "7a74be8f-4d2f-4956-bb8a-59d1471c8dee",
   "metadata": {},
   "outputs": [
    {
     "data": {
      "text/plain": [
       "0.0581204"
      ]
     },
     "execution_count": 26,
     "metadata": {},
     "output_type": "execute_result"
    }
   ],
   "source": [
    "np.count_nonzero(scores[:,0] < scores[:,1])/n"
   ]
  },
  {
   "cell_type": "code",
   "execution_count": 27,
   "id": "ff24ada2-d02c-4840-9d11-fd2bf3b8de4d",
   "metadata": {},
   "outputs": [
    {
     "data": {
      "text/plain": [
       "0.1399738"
      ]
     },
     "execution_count": 27,
     "metadata": {},
     "output_type": "execute_result"
    }
   ],
   "source": [
    "np.count_nonzero(scores[:,0] == scores[:,1])/n"
   ]
  },
  {
   "cell_type": "markdown",
   "id": "64d75a3b-a162-42c9-930f-f155e4277fb2",
   "metadata": {},
   "source": [
    "Our simulation suggests an 80% chance that the Netherlands wins, a 6% chance that Denmark wins, and a 14% chance that the match ends in a draw."
   ]
  },
  {
   "cell_type": "markdown",
   "id": "c6318562-c5e3-40c7-834a-21c1f6d50f4b",
   "metadata": {},
   "source": [
    "## Saving the ratings\n",
    "\n",
    "We'll save the ratings in a csv file."
   ]
  },
  {
   "cell_type": "code",
   "execution_count": 28,
   "id": "d2a5f0e3-0caf-48d9-9a9c-1e15ed9ac0a7",
   "metadata": {},
   "outputs": [],
   "source": [
    "ratings.to_csv(\"data/ratings.csv\")"
   ]
  }
 ],
 "metadata": {
  "kernelspec": {
   "display_name": "Python 3 (ipykernel)",
   "language": "python",
   "name": "python3"
  },
  "language_info": {
   "codemirror_mode": {
    "name": "ipython",
    "version": 3
   },
   "file_extension": ".py",
   "mimetype": "text/x-python",
   "name": "python",
   "nbconvert_exporter": "python",
   "pygments_lexer": "ipython3",
   "version": "3.9.13"
  }
 },
 "nbformat": 4,
 "nbformat_minor": 5
}