{
 "cells": [
  {
   "cell_type": "markdown",
   "id": "b4c68ea2-ce2a-4fb4-aebd-62b890bdc707",
   "metadata": {},
   "source": [
    "# Power ranks"
   ]
  },
  {
   "cell_type": "code",
   "execution_count": null,
   "id": "699dc49e-f1a8-46b3-be89-7dd9524fb4be",
   "metadata": {},
   "outputs": [],
   "source": []
  }
 ],
 "metadata": {
  "kernelspec": {
   "display_name": "Python 3 (ipykernel)",
   "language": "python",
   "name": "python3"
  },
  "language_info": {
   "codemirror_mode": {
    "name": "ipython",
    "version": 3
   },
   "file_extension": ".py",
   "mimetype": "text/x-python",
   "name": "python",
   "nbconvert_exporter": "python",
   "pygments_lexer": "ipython3",
   "version": "3.9.13"
  }
 },
 "nbformat": 4,
 "nbformat_minor": 5
}
