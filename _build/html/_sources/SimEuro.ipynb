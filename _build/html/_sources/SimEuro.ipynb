{
 "cells": [
  {
   "cell_type": "markdown",
   "id": "ad5deaca-85dc-4690-b696-cb594d46deee",
   "metadata": {},
   "source": [
    "# Simulation\n",
    "\n",
    "We will use the group odds (which have nothing to do with our power ratings... they are implied from betting odds) to simulate the outcome of the group stage, and then we will use the power ratings to simulate the knockout stage."
   ]
  },
  {
   "cell_type": "markdown",
   "id": "9b89b71c-de58-4713-8e3c-33765389ad57",
   "metadata": {},
   "source": [
    "## Group stage\n",
    "\n",
    "These outcomes are based on the implied odds from the betting odds, as we computed [here](GetGroupOdds.ipynb)."
   ]
  },
  {
   "cell_type": "code",
   "execution_count": 1,
   "id": "4fd53ed0-6fba-4317-b1ba-7cdde45506e8",
   "metadata": {},
   "outputs": [],
   "source": [
    "import pandas as pd\n",
    "import numpy as np\n",
    "\n",
    "rng = np.random.default_rng()"
   ]
  },
  {
   "cell_type": "code",
   "execution_count": 2,
   "id": "18a3db69-f2c5-493c-ac15-dd04c91ee0bf",
   "metadata": {},
   "outputs": [],
   "source": [
    "df_odds = pd.read_csv(\"data/gp_odds.csv\")"
   ]
  },
  {
   "cell_type": "code",
   "execution_count": 4,
   "id": "f127efb4-17dd-4bc3-8c05-e5bc17d4aa77",
   "metadata": {},
   "outputs": [
    {
     "data": {
      "text/html": [
       "<div>\n",
       "<style scoped>\n",
       "    .dataframe tbody tr th:only-of-type {\n",
       "        vertical-align: middle;\n",
       "    }\n",
       "\n",
       "    .dataframe tbody tr th {\n",
       "        vertical-align: top;\n",
       "    }\n",
       "\n",
       "    .dataframe thead th {\n",
       "        text-align: right;\n",
       "    }\n",
       "</style>\n",
       "<table border=\"1\" class=\"dataframe\">\n",
       "  <thead>\n",
       "    <tr style=\"text-align: right;\">\n",
       "      <th></th>\n",
       "      <th>Group</th>\n",
       "      <th>Team</th>\n",
       "      <th>Odds</th>\n",
       "      <th>Prob</th>\n",
       "      <th>Implied</th>\n",
       "      <th>Site</th>\n",
       "      <th>Date</th>\n",
       "    </tr>\n",
       "  </thead>\n",
       "  <tbody>\n",
       "    <tr>\n",
       "      <th>0</th>\n",
       "      <td>Group A</td>\n",
       "      <td>England</td>\n",
       "      <td>-250</td>\n",
       "      <td>0.714286</td>\n",
       "      <td>0.657555</td>\n",
       "      <td>Bet Online</td>\n",
       "      <td>2022-07-03</td>\n",
       "    </tr>\n",
       "    <tr>\n",
       "      <th>1</th>\n",
       "      <td>Group A</td>\n",
       "      <td>Norway</td>\n",
       "      <td>250</td>\n",
       "      <td>0.285714</td>\n",
       "      <td>0.263022</td>\n",
       "      <td>Bet Online</td>\n",
       "      <td>2022-07-03</td>\n",
       "    </tr>\n",
       "    <tr>\n",
       "      <th>2</th>\n",
       "      <td>Group A</td>\n",
       "      <td>Austria</td>\n",
       "      <td>1400</td>\n",
       "      <td>0.066667</td>\n",
       "      <td>0.061372</td>\n",
       "      <td>Bet Online</td>\n",
       "      <td>2022-07-03</td>\n",
       "    </tr>\n",
       "    <tr>\n",
       "      <th>3</th>\n",
       "      <td>Group A</td>\n",
       "      <td>Northern Ireland</td>\n",
       "      <td>5000</td>\n",
       "      <td>0.019608</td>\n",
       "      <td>0.018051</td>\n",
       "      <td>Bet Online</td>\n",
       "      <td>2022-07-03</td>\n",
       "    </tr>\n",
       "  </tbody>\n",
       "</table>\n",
       "</div>"
      ],
      "text/plain": [
       "     Group              Team  Odds      Prob   Implied        Site        Date\n",
       "0  Group A           England  -250  0.714286  0.657555  Bet Online  2022-07-03\n",
       "1  Group A            Norway   250  0.285714  0.263022  Bet Online  2022-07-03\n",
       "2  Group A           Austria  1400  0.066667  0.061372  Bet Online  2022-07-03\n",
       "3  Group A  Northern Ireland  5000  0.019608  0.018051  Bet Online  2022-07-03"
      ]
     },
     "execution_count": 4,
     "metadata": {},
     "output_type": "execute_result"
    }
   ],
   "source": [
    "df_odds.head(4)"
   ]
  },
  {
   "cell_type": "markdown",
   "id": "9824c0a1-d881-4149-94dc-d84c1afb9c8f",
   "metadata": {},
   "source": [
    "Here is an example of one simulation."
   ]
  },
  {
   "cell_type": "code",
   "execution_count": 5,
   "id": "8efec202-611b-47b9-ad2e-221a20948015",
   "metadata": {},
   "outputs": [],
   "source": [
    "gp_top2 = {}\n",
    "\n",
    "for gp, df_sub in df_odds.groupby(\"Group\"):\n",
    "    gp_top2[gp] = rng.choice(df_sub[\"Team\"], size=2, replace=False, p=df_sub[\"Implied\"])"
   ]
  },
  {
   "cell_type": "code",
   "execution_count": 6,
   "id": "9dc97e36-6c32-4cd4-ad4b-78079b956840",
   "metadata": {},
   "outputs": [
    {
     "data": {
      "text/plain": [
       "{'Group A': array(['Norway', 'England'], dtype=object),\n",
       " 'Group B': array(['Germany', 'Spain'], dtype=object),\n",
       " 'Group C': array(['Sweden', 'Netherlands'], dtype=object),\n",
       " 'Group D': array(['France', 'Iceland'], dtype=object)}"
      ]
     },
     "execution_count": 6,
     "metadata": {},
     "output_type": "execute_result"
    }
   ],
   "source": [
    "gp_top2"
   ]
  },
  {
   "cell_type": "markdown",
   "id": "0e6249e2-41a5-4fe2-9cbb-79413cabc605",
   "metadata": {},
   "source": [
    "## Simulate match\n",
    "\n",
    "Once we know the simulated outcomes of the group stage, we will simulate individual matches as we progress through the knockout stage.  To simulate the group stage, we only used the betting odds.  For the individual matches, we will use a completely different strategy, and only use the power ratings computed in the [power ratings section](PowerRatings.ipynb).\n",
    "\n",
    "For each pair of teams, we will use the method from the [](example-computation) section to estimate the probability that Team 1 defeats Team 2.  (For now, we will just ignore draws.)\n",
    "\n",
    "In matches involving England, we will include the home-field advantage.  We will not use home-field advantage for any of the other teams."
   ]
  },
  {
   "cell_type": "code",
   "execution_count": 7,
   "id": "6b12d472-1557-45e0-a0b6-b9c9d92ceaeb",
   "metadata": {},
   "outputs": [],
   "source": [
    "ratings = pd.read_csv(\"data/ratings.csv\", index_col=0).squeeze(\"columns\")"
   ]
  },
  {
   "cell_type": "markdown",
   "id": "19dfd9d3-2e66-4cad-8fc3-c3daaf8de11b",
   "metadata": {},
   "source": [
    "Here are the five highest ranked teams."
   ]
  },
  {
   "cell_type": "code",
   "execution_count": 8,
   "id": "06abf534-7fd0-4b5b-b848-7c187ca7546a",
   "metadata": {},
   "outputs": [
    {
     "data": {
      "text/plain": [
       "England    1.818341\n",
       "Spain      1.805690\n",
       "Belgium    1.564538\n",
       "Sweden     1.486001\n",
       "Italy      1.432286\n",
       "Name: 0, dtype: float64"
      ]
     },
     "execution_count": 8,
     "metadata": {},
     "output_type": "execute_result"
    }
   ],
   "source": [
    "ratings[:5]"
   ]
  },
  {
   "cell_type": "code",
   "execution_count": 9,
   "id": "b6ac0770-d9ff-45f9-8f6f-f8934ebcebe2",
   "metadata": {},
   "outputs": [],
   "source": [
    "match_probs = {}"
   ]
  },
  {
   "cell_type": "code",
   "execution_count": 10,
   "id": "cc05baa4-d73e-481c-ba9a-170407d0382b",
   "metadata": {},
   "outputs": [],
   "source": [
    "teams = df_odds[\"Team\"].unique()"
   ]
  },
  {
   "cell_type": "code",
   "execution_count": 11,
   "id": "39573fb6-99f8-4cae-ac86-fab25f064ceb",
   "metadata": {},
   "outputs": [],
   "source": [
    "from itertools import combinations"
   ]
  },
  {
   "cell_type": "code",
   "execution_count": 90,
   "id": "a0a9388a-f844-40af-bd8c-0b57baed4460",
   "metadata": {},
   "outputs": [],
   "source": [
    "match_dict = {}\n",
    "\n",
    "b = ratings[\"const\"]\n",
    "hfa = ratings[\"HFA\"]\n",
    "\n",
    "n = 10**7\n",
    "\n",
    "for pair in combinations(teams,2):\n",
    "    r0 = ratings[pair[0]]\n",
    "    r1 = ratings[pair[1]]\n",
    "    h0 = 0\n",
    "    h1 = 0\n",
    "    if pair[0] == \"England\":\n",
    "        h0 = hfa\n",
    "    elif pair[1] == \"England\":\n",
    "        h1 = hfa\n",
    "    lam = (np.exp(b+r0-r1+h0), np.exp(b+r1-r0+h1))\n",
    "    scores = rng.poisson(lam, size=(n,2))\n",
    "    wins = np.count_nonzero(scores[:,0] > scores[:,1])\n",
    "    losses = np.count_nonzero(scores[:,0] < scores[:,1])\n",
    "    match_dict[pair] = (wins/(wins+losses), losses/(wins+losses))"
   ]
  },
  {
   "cell_type": "markdown",
   "id": "2295cb82-ea68-4314-8ac6-ad137f284688",
   "metadata": {},
   "source": [
    "As a reality check, let's check the probability that Denmark beats Austria.  In that order, the tuple doesn't appear."
   ]
  },
  {
   "cell_type": "code",
   "execution_count": 91,
   "id": "347714a3-c132-4ee9-8f1f-5b35603860c5",
   "metadata": {},
   "outputs": [
    {
     "ename": "KeyError",
     "evalue": "('Denmark', 'Austria')",
     "output_type": "error",
     "traceback": [
      "\u001b[0;31m---------------------------------------------------------------------------\u001b[0m",
      "\u001b[0;31mKeyError\u001b[0m                                  Traceback (most recent call last)",
      "Input \u001b[0;32mIn [91]\u001b[0m, in \u001b[0;36m<cell line: 1>\u001b[0;34m()\u001b[0m\n\u001b[0;32m----> 1\u001b[0m \u001b[43mmatch_dict\u001b[49m\u001b[43m[\u001b[49m\u001b[43m(\u001b[49m\u001b[38;5;124;43m\"\u001b[39;49m\u001b[38;5;124;43mDenmark\u001b[39;49m\u001b[38;5;124;43m\"\u001b[39;49m\u001b[43m,\u001b[49m\u001b[43m \u001b[49m\u001b[38;5;124;43m\"\u001b[39;49m\u001b[38;5;124;43mAustria\u001b[39;49m\u001b[38;5;124;43m\"\u001b[39;49m\u001b[43m)\u001b[49m\u001b[43m]\u001b[49m\n",
      "\u001b[0;31mKeyError\u001b[0m: ('Denmark', 'Austria')"
     ]
    }
   ],
   "source": [
    "match_dict[(\"Denmark\", \"Austria\")]"
   ]
  },
  {
   "cell_type": "markdown",
   "id": "550342d1-1914-4a22-887a-89c9f74f114b",
   "metadata": {},
   "source": [
    "So we use the opposite order."
   ]
  },
  {
   "cell_type": "code",
   "execution_count": 92,
   "id": "83677ed6-29b1-4112-bcd8-f8b70d26f1e1",
   "metadata": {},
   "outputs": [
    {
     "data": {
      "text/plain": [
       "(0.8036677766866809, 0.19633222331331915)"
      ]
     },
     "execution_count": 92,
     "metadata": {},
     "output_type": "execute_result"
    }
   ],
   "source": [
    "match_dict[(\"Austria\", \"Denmark\")]"
   ]
  },
  {
   "cell_type": "markdown",
   "id": "9a86b0a1-323c-4971-9fa0-fed76ab9687f",
   "metadata": {},
   "source": [
    "The above is saying that Denmark has about a 20% chance of beating Austria.  (Because of the randomness in these simulations, the results might change when this is run again.)"
   ]
  },
  {
   "cell_type": "markdown",
   "id": "d1b29e5f-7d9e-4171-9574-18ed9647ea50",
   "metadata": {},
   "source": [
    "For convenience, we'll make a new dictionary `full_matches` that also contains each \"reversed\" tuple."
   ]
  },
  {
   "cell_type": "code",
   "execution_count": 93,
   "id": "1e4ddaf2-1eea-421c-bf97-8c778c833a2c",
   "metadata": {},
   "outputs": [],
   "source": [
    "full_matches = match_dict.copy()\n",
    "\n",
    "for tup in match_dict.keys():\n",
    "    res = match_dict[tup]\n",
    "    full_matches[(tup[1], tup[0])] = (res[1], res[0])"
   ]
  },
  {
   "cell_type": "code",
   "execution_count": 94,
   "id": "213e3b12-be6b-43c0-80db-e3f9cb22e473",
   "metadata": {},
   "outputs": [
    {
     "data": {
      "text/plain": [
       "(0.19633222331331915, 0.8036677766866809)"
      ]
     },
     "execution_count": 94,
     "metadata": {},
     "output_type": "execute_result"
    }
   ],
   "source": [
    "full_matches[(\"Denmark\", \"Austria\")]"
   ]
  },
  {
   "cell_type": "markdown",
   "id": "3c93faf2-f8f6-45eb-be43-febeec635b29",
   "metadata": {},
   "source": [
    "We'll save the results so we don't need to make the computation again."
   ]
  },
  {
   "cell_type": "code",
   "execution_count": 125,
   "id": "1bfef3b3-ed53-4ee4-a7fd-434143a5ab06",
   "metadata": {},
   "outputs": [],
   "source": [
    "pd.Series(full_matches).to_csv(\"data/match_probs.csv\")"
   ]
  },
  {
   "cell_type": "markdown",
   "id": "ad5f11ba-1294-4e29-8d28-8cdcb5e0f837",
   "metadata": {},
   "source": [
    "## Knockout stage\n",
    "\n",
    "Here is the tournament bracket, taken from [Wikipedia](https://en.wikipedia.org/wiki/UEFA_Women%27s_Euro_2022#Knockout_stage).\n",
    "\n",
    "![Tournament bracket](images/knockout.png)"
   ]
  },
  {
   "cell_type": "markdown",
   "id": "e007c9bd-1f6c-4a9c-8c89-888478c38263",
   "metadata": {},
   "source": [
    "Let's see how to feed the results of the group stage into this sort of bracket.  Since there are only 8 teams, we'll just specify the matchups manually.  For example, \"C0\" refers to the winner of Group C and \"C1\" refers to the runner-up in Group C."
   ]
  },
  {
   "cell_type": "code",
   "execution_count": 96,
   "id": "85fb0e4a-cbc7-48c6-a511-65aebac507b8",
   "metadata": {},
   "outputs": [],
   "source": [
    "bracket_abbr = \"C0D1A0B1D0C1B0A1\"\n",
    "bracket_str = [bracket_abbr[i:i+2] for i in range(0,len(bracket_abbr),2)]"
   ]
  },
  {
   "cell_type": "code",
   "execution_count": 97,
   "id": "3c3e3254-43d0-4c4e-a4d0-36534f8d14f6",
   "metadata": {},
   "outputs": [
    {
     "data": {
      "text/plain": [
       "['England']"
      ]
     },
     "execution_count": 97,
     "metadata": {},
     "output_type": "execute_result"
    }
   ],
   "source": [
    "bracket"
   ]
  },
  {
   "cell_type": "code",
   "execution_count": 98,
   "id": "2971181d-8819-42fe-9b25-b3878e0ebdb9",
   "metadata": {},
   "outputs": [
    {
     "data": {
      "text/plain": [
       "{'Group A': array(['Norway', 'England'], dtype=object),\n",
       " 'Group B': array(['Spain', 'Germany'], dtype=object),\n",
       " 'Group C': array(['Netherlands', 'Sweden'], dtype=object),\n",
       " 'Group D': array(['Italy', 'France'], dtype=object)}"
      ]
     },
     "execution_count": 98,
     "metadata": {},
     "output_type": "execute_result"
    }
   ],
   "source": [
    "gp_top2"
   ]
  },
  {
   "cell_type": "code",
   "execution_count": 99,
   "id": "d995f630-c590-496e-8c30-06141e0664d3",
   "metadata": {},
   "outputs": [],
   "source": [
    "# s is a length-2 string like \"C0\"\n",
    "def get_team(s, gp_top2):\n",
    "    letter, place = s\n",
    "    return gp_top2[f\"Group {letter}\"][int(place)]"
   ]
  },
  {
   "cell_type": "code",
   "execution_count": 100,
   "id": "ca72aba0-4954-438c-9f32-a4a0450eb9a7",
   "metadata": {},
   "outputs": [
    {
     "data": {
      "text/plain": [
       "'Netherlands'"
      ]
     },
     "execution_count": 100,
     "metadata": {},
     "output_type": "execute_result"
    }
   ],
   "source": [
    "get_team(\"C0\", gp_top2)"
   ]
  },
  {
   "cell_type": "code",
   "execution_count": 101,
   "id": "95950b86-0aee-4076-8a53-229b2b8bf73e",
   "metadata": {},
   "outputs": [],
   "source": [
    "bracket = [get_team(s, gp_top2) for s in bracket_str]"
   ]
  },
  {
   "cell_type": "code",
   "execution_count": 102,
   "id": "293eeb93-2942-4b19-b093-eca380eed2ee",
   "metadata": {},
   "outputs": [
    {
     "data": {
      "text/plain": [
       "['Netherlands',\n",
       " 'France',\n",
       " 'Norway',\n",
       " 'Germany',\n",
       " 'Italy',\n",
       " 'Sweden',\n",
       " 'Spain',\n",
       " 'England']"
      ]
     },
     "execution_count": 102,
     "metadata": {},
     "output_type": "execute_result"
    }
   ],
   "source": [
    "bracket"
   ]
  },
  {
   "cell_type": "markdown",
   "id": "94fa71c3-80b6-4ae3-81b7-3566cb12edf9",
   "metadata": {},
   "source": [
    "We can get the probabilities associated to one of these matches using our `full_matches` dictionary from above. "
   ]
  },
  {
   "cell_type": "code",
   "execution_count": 107,
   "id": "2ae54cbe-ed70-4b7b-8276-ee1eb71d5626",
   "metadata": {},
   "outputs": [],
   "source": [
    "match = (bracket[0], bracket[1])"
   ]
  },
  {
   "cell_type": "code",
   "execution_count": 108,
   "id": "3c0cbe78-bae2-433a-917a-56aff6995f0f",
   "metadata": {},
   "outputs": [
    {
     "data": {
      "text/plain": [
       "('Netherlands', 'France')"
      ]
     },
     "execution_count": 108,
     "metadata": {},
     "output_type": "execute_result"
    }
   ],
   "source": [
    "match"
   ]
  },
  {
   "cell_type": "code",
   "execution_count": 109,
   "id": "16285c95-b594-416d-82be-5695694011a2",
   "metadata": {},
   "outputs": [
    {
     "data": {
      "text/plain": [
       "(0.7225502700776059, 0.27744972992239414)"
      ]
     },
     "execution_count": 109,
     "metadata": {},
     "output_type": "execute_result"
    }
   ],
   "source": [
    "full_matches[match]"
   ]
  },
  {
   "cell_type": "markdown",
   "id": "74b92021-3d35-41d6-816f-5c6704b21473",
   "metadata": {},
   "source": [
    "If we want to simulate this match 10 times using those probabilities, we can use `rng.choice`.  (In our overall simulation, we will only simulate such a map once per bracket.  This example is just to show how the weights work.)"
   ]
  },
  {
   "cell_type": "code",
   "execution_count": 110,
   "id": "19f26ac9-7931-44cc-bb02-2b219471766a",
   "metadata": {},
   "outputs": [
    {
     "data": {
      "text/plain": [
       "array(['Netherlands', 'Netherlands', 'Netherlands', 'France',\n",
       "       'Netherlands', 'Netherlands', 'France', 'Netherlands',\n",
       "       'Netherlands', 'Netherlands'], dtype='<U11')"
      ]
     },
     "execution_count": 110,
     "metadata": {},
     "output_type": "execute_result"
    }
   ],
   "source": [
    "rng.choice(match, size=10, p=full_matches[match])"
   ]
  },
  {
   "cell_type": "markdown",
   "id": "2f9d5626-8949-42df-8d06-5be1b06f8507",
   "metadata": {},
   "source": [
    "Here is an example of finding the winner after the knockout stage."
   ]
  },
  {
   "cell_type": "code",
   "execution_count": 111,
   "id": "411d2743-4454-485d-9717-82e6c0722f00",
   "metadata": {},
   "outputs": [
    {
     "name": "stdout",
     "output_type": "stream",
     "text": [
      "The winner is Italy\n"
     ]
    }
   ],
   "source": [
    "while len(bracket) > 1:\n",
    "    temp_list = []\n",
    "    for i in range(0,len(bracket),2):\n",
    "        match = (bracket[i], bracket[i+1])\n",
    "        winner = rng.choice(match, p=full_matches[match])\n",
    "        temp_list.append(winner)\n",
    "    bracket = temp_list\n",
    "    \n",
    "print(f\"The winner is {bracket[0]}\")"
   ]
  },
  {
   "cell_type": "markdown",
   "id": "c8acdd55-840a-46fb-93cf-131adaaeb87b",
   "metadata": {},
   "source": [
    "## Full simulation\n",
    "\n",
    "Here we put together the two steps above.  First we run the simulation 1 time and time how long it takes."
   ]
  },
  {
   "cell_type": "code",
   "execution_count": 112,
   "id": "f7b057b9-53cf-4683-943b-03926992fb66",
   "metadata": {},
   "outputs": [
    {
     "name": "stdout",
     "output_type": "stream",
     "text": [
      "The winner is England\n",
      "CPU times: user 6.67 ms, sys: 1.94 ms, total: 8.6 ms\n",
      "Wall time: 6.76 ms\n"
     ]
    }
   ],
   "source": [
    "%%time\n",
    "\n",
    "gp_top2 = {}\n",
    "\n",
    "for gp, df_sub in df_odds.groupby(\"Group\"):\n",
    "    gp_top2[gp] = rng.choice(df_sub[\"Team\"], size=2, replace=False, p=df_sub[\"Implied\"])\n",
    "    \n",
    "bracket = [get_team(s, gp_top2) for s in bracket_str]\n",
    "\n",
    "while len(bracket) > 1:\n",
    "    temp_list = []\n",
    "    for i in range(0,len(bracket),2):\n",
    "        match = (bracket[i], bracket[i+1])\n",
    "        winner = rng.choice(match, p=full_matches[match])\n",
    "        temp_list.append(winner)\n",
    "    bracket = temp_list\n",
    "    \n",
    "print(f\"The winner is {bracket[0]}\")"
   ]
  },
  {
   "cell_type": "markdown",
   "id": "c1143f72-9482-4431-bef9-b44fdd1b1e8e",
   "metadata": {},
   "source": [
    "Here we simulate the tournament two million times.  We have repeated this a few times, and the results come out very similar each time, so there is probably not much to be gained by running the simulation more times."
   ]
  },
  {
   "cell_type": "code",
   "execution_count": 127,
   "id": "f62a3d3c-0843-4197-9cbe-b45f38eefee0",
   "metadata": {},
   "outputs": [],
   "source": [
    "n = 2*10**6\n",
    "\n",
    "results_dict = {team:0 for team in teams}\n",
    "\n",
    "for _ in range(n):\n",
    "    gp_top2 = {}\n",
    "\n",
    "    for gp, df_sub in df_odds.groupby(\"Group\"):\n",
    "        gp_top2[gp] = rng.choice(df_sub[\"Team\"], size=2, replace=False, p=df_sub[\"Implied\"])\n",
    "\n",
    "    bracket = [get_team(s, gp_top2) for s in bracket_str]\n",
    "\n",
    "    while len(bracket) > 1:\n",
    "        temp_list = []\n",
    "        for i in range(0,len(bracket),2):\n",
    "            match = (bracket[i], bracket[i+1])\n",
    "            winner = rng.choice(match, p=full_matches[match])\n",
    "            temp_list.append(winner)\n",
    "        bracket = temp_list\n",
    "        \n",
    "    results_dict[bracket[0]] += 1\n",
    "    \n",
    "# sorting by probability\n",
    "prob_dict = {team: (win/n) for team, win in sorted(results_dict.items(), key=lambda x: x[1], reverse=True)}"
   ]
  },
  {
   "cell_type": "code",
   "execution_count": 128,
   "id": "bc517dc9-de4f-49d9-a8e7-fe12bcb4a173",
   "metadata": {},
   "outputs": [
    {
     "data": {
      "text/plain": [
       "{'England': 0.510956,\n",
       " 'Spain': 0.2541105,\n",
       " 'Sweden': 0.074987,\n",
       " 'Netherlands': 0.0500265,\n",
       " 'Italy': 0.0331855,\n",
       " 'Belgium': 0.0230885,\n",
       " 'Norway': 0.0179235,\n",
       " 'Germany': 0.011113,\n",
       " 'Iceland': 0.0102955,\n",
       " 'France': 0.0072075,\n",
       " 'Austria': 0.00506,\n",
       " 'Switzerland': 0.0018255,\n",
       " 'Denmark': 0.000188,\n",
       " 'Northern Ireland': 2.45e-05,\n",
       " 'Finland': 8e-06,\n",
       " 'Portugal': 5e-07}"
      ]
     },
     "execution_count": 128,
     "metadata": {},
     "output_type": "execute_result"
    }
   ],
   "source": [
    "prob_dict"
   ]
  },
  {
   "cell_type": "markdown",
   "id": "06ef23e3-ccaa-43e5-ba8d-81fabc585e4c",
   "metadata": {},
   "source": [
    "## Convert to odds\n",
    "\n",
    "So that the numbers are easier to compare to betting odds, we display what would be fair odds according to the simulation for each team to win the tournament.\n",
    "\n",
    "**Warning**.  The England odds are so different from the current (as of July 3rd) market odds, that our simulation is certainly over-estimating England's chances."
   ]
  },
  {
   "cell_type": "code",
   "execution_count": 123,
   "id": "4d360d9f-2f1f-41ff-84ed-512840a9de04",
   "metadata": {},
   "outputs": [],
   "source": [
    "def prob_to_odds(p):\n",
    "    if p < .000001:\n",
    "        return np.nan\n",
    "    if p > .999999:\n",
    "        return np.nan\n",
    "    if p > 0.5:\n",
    "        x = 100*p/(p-1)\n",
    "        return f\"{x:.0f}\"\n",
    "    elif p <= 0.5:\n",
    "        x = 100*(1-p)/p\n",
    "        return f\"+{x:.0f}\""
   ]
  },
  {
   "cell_type": "code",
   "execution_count": 130,
   "id": "9c7f460f-ca38-47c6-80cb-3d3094f12160",
   "metadata": {},
   "outputs": [
    {
     "data": {
      "text/plain": [
       "England                  -104\n",
       "Spain                    +294\n",
       "Sweden                  +1234\n",
       "Netherlands             +1899\n",
       "Italy                   +2913\n",
       "Belgium                 +4231\n",
       "Norway                  +5479\n",
       "Germany                 +8898\n",
       "Iceland                 +9613\n",
       "France                 +13774\n",
       "Austria                +19663\n",
       "Switzerland            +54680\n",
       "Denmark               +531815\n",
       "Northern Ireland     +4081533\n",
       "Finland             +12499900\n",
       "Portugal                  NaN\n",
       "dtype: object"
      ]
     },
     "execution_count": 130,
     "metadata": {},
     "output_type": "execute_result"
    }
   ],
   "source": [
    "pd.Series({team:prob_to_odds(prob) for team,prob in prob_dict.items()})"
   ]
  }
 ],
 "metadata": {
  "kernelspec": {
   "display_name": "Python 3 (ipykernel)",
   "language": "python",
   "name": "python3"
  },
  "language_info": {
   "codemirror_mode": {
    "name": "ipython",
    "version": 3
   },
   "file_extension": ".py",
   "mimetype": "text/x-python",
   "name": "python",
   "nbconvert_exporter": "python",
   "pygments_lexer": "ipython3",
   "version": "3.9.13"
  }
 },
 "nbformat": 4,
 "nbformat_minor": 5
}
