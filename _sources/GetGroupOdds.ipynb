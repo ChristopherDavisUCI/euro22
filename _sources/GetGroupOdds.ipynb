{
 "cells": [
  {
   "cell_type": "markdown",
   "id": "5607e17c-cfcb-44d4-9042-b00a90138fed",
   "metadata": {},
   "source": [
    "# Group odds from betting lines"
   ]
  },
  {
   "cell_type": "markdown",
   "id": "60273ac1-364a-4cc8-ba56-15328b291834",
   "metadata": {},
   "source": [
    "## Getting the odds\n",
    "\n",
    "Here is an example of getting odds to win groups from Bet Online using Beautiful Soup and regular expressions.  The html is saved in a file \"bo73.html\"."
   ]
  },
  {
   "cell_type": "code",
   "execution_count": 1,
   "id": "066c334d-4a11-4208-b7a5-390177eac9f9",
   "metadata": {},
   "outputs": [],
   "source": [
    "import pandas as pd\n",
    "import re\n",
    "\n",
    "from bs4 import BeautifulSoup"
   ]
  },
  {
   "cell_type": "code",
   "execution_count": 2,
   "id": "c59eb669-3967-4073-9af5-a7afef816ae1",
   "metadata": {},
   "outputs": [],
   "source": [
    "with open(\"bo73.html\", \"r\") as f:\n",
    "    html = f.read()"
   ]
  },
  {
   "cell_type": "code",
   "execution_count": 3,
   "id": "d1500706-404f-449d-969d-791b34f7d840",
   "metadata": {},
   "outputs": [],
   "source": [
    "soup = BeautifulSoup(html)"
   ]
  },
  {
   "cell_type": "markdown",
   "id": "6c71c54d-0a88-48da-acbc-7230fa63d56b",
   "metadata": {},
   "source": [
    "Using the \"Inspect Elements\" option in Chrome, we find the css class that contains the headings we're interested in: `\"offering-contests__table-description-text\"`"
   ]
  },
  {
   "cell_type": "code",
   "execution_count": 4,
   "id": "0c3a2232-7ab1-4c1d-abb0-945973045d02",
   "metadata": {},
   "outputs": [],
   "source": [
    "divs = soup.find_all(\"div\", class_=\"offering-contests__table-description-text\")"
   ]
  },
  {
   "cell_type": "markdown",
   "id": "1fe376ca-b685-4d4c-be9e-a21dda764742",
   "metadata": {},
   "source": [
    "Here is an example of what is in this list of divs.  We will just focus on the four group betting sections."
   ]
  },
  {
   "cell_type": "code",
   "execution_count": 5,
   "id": "4d6cf778-3782-4296-906e-c7c5956bc128",
   "metadata": {},
   "outputs": [
    {
     "name": "stdout",
     "output_type": "stream",
     "text": [
      " Odds to Win 2022 UEFA Women's EURO \n",
      " Odds to Win Group A  - Group Betting\n",
      " Top Goalscorer \n",
      " Odds to Win Group B  - Group Betting\n",
      " Odds to Win Group C  - Group Betting\n",
      " Odds to Win Group D  - Group Betting\n"
     ]
    }
   ],
   "source": [
    "for div in divs:\n",
    "    print(div.text)"
   ]
  },
  {
   "cell_type": "code",
   "execution_count": 6,
   "id": "67e49fac-c820-4fd4-9d9d-a061d286a564",
   "metadata": {},
   "outputs": [],
   "source": [
    "group_divs = [div for div in divs if \"Group Betting\" in div.text]"
   ]
  },
  {
   "cell_type": "markdown",
   "id": "39498e44-ee00-4ae5-97d9-85ce454a1d54",
   "metadata": {},
   "source": [
    "We'll use regular expressions to get the corresponding group letter.  (This is probably overkill, but we'll use regular expressions throughout, so this is just practice.)\n",
    "\n",
    "Here is an example with just one of the objects."
   ]
  },
  {
   "cell_type": "code",
   "execution_count": 7,
   "id": "ce31a472-5568-44de-83f4-8d5e6e5ccc8e",
   "metadata": {},
   "outputs": [
    {
     "data": {
      "text/plain": [
       "'Group B'"
      ]
     },
     "execution_count": 7,
     "metadata": {},
     "output_type": "execute_result"
    }
   ],
   "source": [
    "div = group_divs[1]\n",
    "re.search(\"Group [A-D]\", div.text)[0]"
   ]
  },
  {
   "cell_type": "markdown",
   "id": "5334220c-5783-4a3d-bf96-6299f4f2878f",
   "metadata": {},
   "source": [
    "The element `div` is a Beautiful Soup element, and we can use Beautiful Soup to find the next sections within the html code after these group divs."
   ]
  },
  {
   "cell_type": "code",
   "execution_count": 8,
   "id": "a4158ea4-97f9-46ee-ada9-f7456f80332a",
   "metadata": {},
   "outputs": [
    {
     "data": {
      "text/plain": [
       "bs4.element.Tag"
      ]
     },
     "execution_count": 8,
     "metadata": {},
     "output_type": "execute_result"
    }
   ],
   "source": [
    "type(div)"
   ]
  },
  {
   "cell_type": "code",
   "execution_count": 9,
   "id": "292d959c-bea9-4927-b41c-2fa64c209760",
   "metadata": {},
   "outputs": [],
   "source": [
    "odds_raw = div.find_next().text"
   ]
  },
  {
   "cell_type": "code",
   "execution_count": 10,
   "id": "758e304a-473f-4634-9cca-75f1af30b407",
   "metadata": {},
   "outputs": [
    {
     "data": {
      "text/plain": [
       "'05:00 PMSpain  -120 Germany  +135 Denmark  +850 Finland  +5000 '"
      ]
     },
     "execution_count": 10,
     "metadata": {},
     "output_type": "execute_result"
    }
   ],
   "source": [
    "odds_raw"
   ]
  },
  {
   "cell_type": "markdown",
   "id": "2baa301c-8299-45c6-bc29-6b5709f0fa6d",
   "metadata": {},
   "source": [
    "We get rid of the initial time portion."
   ]
  },
  {
   "cell_type": "code",
   "execution_count": 11,
   "id": "0326413e-bdd6-44b4-9cb0-83bb0d33ec63",
   "metadata": {},
   "outputs": [
    {
     "data": {
      "text/plain": [
       "<re.Match object; span=(0, 8), match='05:00 PM'>"
      ]
     },
     "execution_count": 11,
     "metadata": {},
     "output_type": "execute_result"
    }
   ],
   "source": [
    "re.search(\"\\d\\d:\\d\\d (?:AM|PM)\", odds_raw)"
   ]
  },
  {
   "cell_type": "code",
   "execution_count": 12,
   "id": "2d0565d3-e4d5-4a98-ae86-1e4f3308b4f4",
   "metadata": {},
   "outputs": [
    {
     "data": {
      "text/plain": [
       "8"
      ]
     },
     "execution_count": 12,
     "metadata": {},
     "output_type": "execute_result"
    }
   ],
   "source": [
    "re.search(\"\\d\\d:\\d\\d (?:AM|PM)\", odds_raw).span()[1]"
   ]
  },
  {
   "cell_type": "code",
   "execution_count": 13,
   "id": "88b0b0c8-3b33-44a0-8c24-c30e6d79f62e",
   "metadata": {},
   "outputs": [],
   "source": [
    "odds2 = odds_raw[re.search(\"\\d\\d:\\d\\d (?:AM|PM)\", odds_raw).span()[1]:]"
   ]
  },
  {
   "cell_type": "code",
   "execution_count": 14,
   "id": "7d6504ea-18b9-4be0-96b1-a7552dcd33d1",
   "metadata": {},
   "outputs": [
    {
     "data": {
      "text/plain": [
       "'Spain  -120 Germany  +135 Denmark  +850 Finland  +5000 '"
      ]
     },
     "execution_count": 14,
     "metadata": {},
     "output_type": "execute_result"
    }
   ],
   "source": [
    "odds2"
   ]
  },
  {
   "cell_type": "markdown",
   "id": "5e133d58-f88b-4f2c-948e-9e720a972349",
   "metadata": {},
   "source": [
    "I've never met anyone who can read regular expressions comfortably, so don't worry if the following looks very difficult to understand."
   ]
  },
  {
   "cell_type": "code",
   "execution_count": 15,
   "id": "c8aaf116-f3ae-4f19-b85f-ef3c1987e348",
   "metadata": {},
   "outputs": [],
   "source": [
    "matches = re.finditer(\"(?P<Team>[A-Za-z ]+)(?P<Odds>[+-]\\d+)\", odds2)"
   ]
  },
  {
   "cell_type": "code",
   "execution_count": 16,
   "id": "330ca5b7-0952-49e5-a905-c1ee522e0f56",
   "metadata": {},
   "outputs": [
    {
     "name": "stdout",
     "output_type": "stream",
     "text": [
      "Spain  \n",
      "-120\n",
      " Germany  \n",
      "+135\n",
      " Denmark  \n",
      "+850\n",
      " Finland  \n",
      "+5000\n"
     ]
    }
   ],
   "source": [
    "for match in matches:\n",
    "    print(match[\"Team\"])\n",
    "    print(match[\"Odds\"])"
   ]
  },
  {
   "cell_type": "markdown",
   "id": "f83dc5bc-4c7e-413a-bcc9-4eb50f4595fd",
   "metadata": {},
   "source": [
    "We can use this method to get the odds for the various groups.  We will put the results into a DataFrame."
   ]
  },
  {
   "cell_type": "code",
   "execution_count": 17,
   "id": "1517e50b-7c7c-4124-be66-c939021ca55e",
   "metadata": {},
   "outputs": [],
   "source": [
    "odds_list = []\n",
    "for div in group_divs:\n",
    "    group = re.search(\"Group [A-D]\", div.text)[0]\n",
    "    odds_raw = div.find_next().text\n",
    "    odds2 = odds_raw[re.search(\"\\d\\d:\\d\\d (?:AM|PM)\", odds_raw).span()[1]:]\n",
    "    matches = re.finditer(\"(?P<Team>[A-Za-z ]+)(?P<Odds>[+-]\\d+)\", odds2)\n",
    "    for match in matches:\n",
    "        team = match[\"Team\"].strip()\n",
    "        odds = match[\"Odds\"].strip()\n",
    "        odds_list.append((group, team, odds))"
   ]
  },
  {
   "cell_type": "code",
   "execution_count": 18,
   "id": "7412ece2-6513-4561-b914-61a13a819f54",
   "metadata": {},
   "outputs": [],
   "source": [
    "df_odds = pd.DataFrame(odds_list, columns=[\"Group\", \"Team\", \"Odds\"])"
   ]
  },
  {
   "cell_type": "code",
   "execution_count": 19,
   "id": "a6fc6ce2-d65c-4910-ad7b-da582f81fcbf",
   "metadata": {},
   "outputs": [
    {
     "data": {
      "text/html": [
       "<div>\n",
       "<style scoped>\n",
       "    .dataframe tbody tr th:only-of-type {\n",
       "        vertical-align: middle;\n",
       "    }\n",
       "\n",
       "    .dataframe tbody tr th {\n",
       "        vertical-align: top;\n",
       "    }\n",
       "\n",
       "    .dataframe thead th {\n",
       "        text-align: right;\n",
       "    }\n",
       "</style>\n",
       "<table border=\"1\" class=\"dataframe\">\n",
       "  <thead>\n",
       "    <tr style=\"text-align: right;\">\n",
       "      <th></th>\n",
       "      <th>Group</th>\n",
       "      <th>Team</th>\n",
       "      <th>Odds</th>\n",
       "    </tr>\n",
       "  </thead>\n",
       "  <tbody>\n",
       "    <tr>\n",
       "      <th>0</th>\n",
       "      <td>Group A</td>\n",
       "      <td>England</td>\n",
       "      <td>-250</td>\n",
       "    </tr>\n",
       "    <tr>\n",
       "      <th>1</th>\n",
       "      <td>Group A</td>\n",
       "      <td>Norway</td>\n",
       "      <td>+250</td>\n",
       "    </tr>\n",
       "    <tr>\n",
       "      <th>2</th>\n",
       "      <td>Group A</td>\n",
       "      <td>Austria</td>\n",
       "      <td>+1400</td>\n",
       "    </tr>\n",
       "    <tr>\n",
       "      <th>3</th>\n",
       "      <td>Group A</td>\n",
       "      <td>Northern Ireland</td>\n",
       "      <td>+5000</td>\n",
       "    </tr>\n",
       "    <tr>\n",
       "      <th>4</th>\n",
       "      <td>Group B</td>\n",
       "      <td>Spain</td>\n",
       "      <td>-120</td>\n",
       "    </tr>\n",
       "    <tr>\n",
       "      <th>5</th>\n",
       "      <td>Group B</td>\n",
       "      <td>Germany</td>\n",
       "      <td>+135</td>\n",
       "    </tr>\n",
       "    <tr>\n",
       "      <th>6</th>\n",
       "      <td>Group B</td>\n",
       "      <td>Denmark</td>\n",
       "      <td>+850</td>\n",
       "    </tr>\n",
       "    <tr>\n",
       "      <th>7</th>\n",
       "      <td>Group B</td>\n",
       "      <td>Finland</td>\n",
       "      <td>+5000</td>\n",
       "    </tr>\n",
       "    <tr>\n",
       "      <th>8</th>\n",
       "      <td>Group C</td>\n",
       "      <td>Netherlands</td>\n",
       "      <td>-125</td>\n",
       "    </tr>\n",
       "    <tr>\n",
       "      <th>9</th>\n",
       "      <td>Group C</td>\n",
       "      <td>Sweden</td>\n",
       "      <td>+125</td>\n",
       "    </tr>\n",
       "    <tr>\n",
       "      <th>10</th>\n",
       "      <td>Group C</td>\n",
       "      <td>Switzerland</td>\n",
       "      <td>+1400</td>\n",
       "    </tr>\n",
       "    <tr>\n",
       "      <th>11</th>\n",
       "      <td>Group C</td>\n",
       "      <td>Portugal</td>\n",
       "      <td>+4000</td>\n",
       "    </tr>\n",
       "    <tr>\n",
       "      <th>12</th>\n",
       "      <td>Group D</td>\n",
       "      <td>France</td>\n",
       "      <td>-325</td>\n",
       "    </tr>\n",
       "    <tr>\n",
       "      <th>13</th>\n",
       "      <td>Group D</td>\n",
       "      <td>Italy</td>\n",
       "      <td>+450</td>\n",
       "    </tr>\n",
       "    <tr>\n",
       "      <th>14</th>\n",
       "      <td>Group D</td>\n",
       "      <td>Iceland</td>\n",
       "      <td>+1200</td>\n",
       "    </tr>\n",
       "    <tr>\n",
       "      <th>15</th>\n",
       "      <td>Group D</td>\n",
       "      <td>Belgium</td>\n",
       "      <td>+1400</td>\n",
       "    </tr>\n",
       "  </tbody>\n",
       "</table>\n",
       "</div>"
      ],
      "text/plain": [
       "      Group              Team   Odds\n",
       "0   Group A           England   -250\n",
       "1   Group A            Norway   +250\n",
       "2   Group A           Austria  +1400\n",
       "3   Group A  Northern Ireland  +5000\n",
       "4   Group B             Spain   -120\n",
       "5   Group B           Germany   +135\n",
       "6   Group B           Denmark   +850\n",
       "7   Group B           Finland  +5000\n",
       "8   Group C       Netherlands   -125\n",
       "9   Group C            Sweden   +125\n",
       "10  Group C       Switzerland  +1400\n",
       "11  Group C          Portugal  +4000\n",
       "12  Group D            France   -325\n",
       "13  Group D             Italy   +450\n",
       "14  Group D           Iceland  +1200\n",
       "15  Group D           Belgium  +1400"
      ]
     },
     "execution_count": 19,
     "metadata": {},
     "output_type": "execute_result"
    }
   ],
   "source": [
    "df_odds"
   ]
  },
  {
   "cell_type": "markdown",
   "id": "f6dd7a1a-aea3-4bd3-80da-5b808f9dfc36",
   "metadata": {},
   "source": [
    "## Converting to probabilities\n",
    "\n",
    "We convert the odds into break even probabilities, and then rescale those probabilities for each individual group so that the probabilities sum to 1."
   ]
  },
  {
   "cell_type": "code",
   "execution_count": 20,
   "id": "db7b51ba-c68b-41c4-ac10-85f5d27067cb",
   "metadata": {},
   "outputs": [],
   "source": [
    "def odds_to_prob(s):\n",
    "    x = int(s)\n",
    "    if x < 0:\n",
    "        y = -x\n",
    "        return y/(100+y)\n",
    "    else:\n",
    "        return 100/(100+x)"
   ]
  },
  {
   "cell_type": "code",
   "execution_count": 21,
   "id": "e7a32507-1e00-4b2d-8f55-dadf2098e17b",
   "metadata": {},
   "outputs": [
    {
     "data": {
      "text/plain": [
       "0.5238095238095238"
      ]
     },
     "execution_count": 21,
     "metadata": {},
     "output_type": "execute_result"
    }
   ],
   "source": [
    "odds_to_prob(\"-110\")"
   ]
  },
  {
   "cell_type": "code",
   "execution_count": 22,
   "id": "c319eb9f-467b-49ad-957c-0832cb8581bb",
   "metadata": {},
   "outputs": [
    {
     "data": {
      "text/plain": [
       "0.25"
      ]
     },
     "execution_count": 22,
     "metadata": {},
     "output_type": "execute_result"
    }
   ],
   "source": [
    "odds_to_prob(\"+300\")"
   ]
  },
  {
   "cell_type": "code",
   "execution_count": 23,
   "id": "ae3213d4-d56d-4b3e-ba6e-93a3c95330dd",
   "metadata": {},
   "outputs": [],
   "source": [
    "df_odds[\"Prob\"] = df_odds[\"Odds\"].map(odds_to_prob)"
   ]
  },
  {
   "cell_type": "code",
   "execution_count": 24,
   "id": "e2f4c634-2eae-42e8-8c5c-dd937ec43e7c",
   "metadata": {},
   "outputs": [],
   "source": [
    "gp_totals = df_odds.groupby(\"Group\").sum()[\"Prob\"]"
   ]
  },
  {
   "cell_type": "markdown",
   "id": "94528f0f-f9e9-4d98-96bd-c62b37e7e326",
   "metadata": {},
   "source": [
    "For example, if you add up all the break-even probabilities for Group C, the total is approximately 1.09."
   ]
  },
  {
   "cell_type": "code",
   "execution_count": 25,
   "id": "8524724a-7692-4419-9cd7-2bdeb88ccf65",
   "metadata": {},
   "outputs": [
    {
     "data": {
      "text/plain": [
       "Group\n",
       "Group A    1.086275\n",
       "Group B    1.095857\n",
       "Group C    1.091057\n",
       "Group D    1.090114\n",
       "Name: Prob, dtype: float64"
      ]
     },
     "execution_count": 25,
     "metadata": {},
     "output_type": "execute_result"
    }
   ],
   "source": [
    "gp_totals"
   ]
  },
  {
   "cell_type": "markdown",
   "id": "7f0a07d0-5c1f-45cb-8423-fb4f918332c2",
   "metadata": {},
   "source": [
    "We rescale the probabilities to get the implied probabilities."
   ]
  },
  {
   "cell_type": "code",
   "execution_count": 26,
   "id": "02717a8f-4b31-411f-916c-eb2495d25fac",
   "metadata": {},
   "outputs": [],
   "source": [
    "df_odds[\"Implied\"] = df_odds[\"Prob\"]/df_odds[\"Group\"].map(lambda x: gp_totals[x])"
   ]
  },
  {
   "cell_type": "code",
   "execution_count": 27,
   "id": "174c27d3-2b89-48c1-8300-6990883aa9b6",
   "metadata": {},
   "outputs": [
    {
     "data": {
      "text/html": [
       "<div>\n",
       "<style scoped>\n",
       "    .dataframe tbody tr th:only-of-type {\n",
       "        vertical-align: middle;\n",
       "    }\n",
       "\n",
       "    .dataframe tbody tr th {\n",
       "        vertical-align: top;\n",
       "    }\n",
       "\n",
       "    .dataframe thead th {\n",
       "        text-align: right;\n",
       "    }\n",
       "</style>\n",
       "<table border=\"1\" class=\"dataframe\">\n",
       "  <thead>\n",
       "    <tr style=\"text-align: right;\">\n",
       "      <th></th>\n",
       "      <th>Group</th>\n",
       "      <th>Team</th>\n",
       "      <th>Odds</th>\n",
       "      <th>Prob</th>\n",
       "      <th>Implied</th>\n",
       "    </tr>\n",
       "  </thead>\n",
       "  <tbody>\n",
       "    <tr>\n",
       "      <th>0</th>\n",
       "      <td>Group A</td>\n",
       "      <td>England</td>\n",
       "      <td>-250</td>\n",
       "      <td>0.714286</td>\n",
       "      <td>0.657555</td>\n",
       "    </tr>\n",
       "    <tr>\n",
       "      <th>1</th>\n",
       "      <td>Group A</td>\n",
       "      <td>Norway</td>\n",
       "      <td>+250</td>\n",
       "      <td>0.285714</td>\n",
       "      <td>0.263022</td>\n",
       "    </tr>\n",
       "    <tr>\n",
       "      <th>2</th>\n",
       "      <td>Group A</td>\n",
       "      <td>Austria</td>\n",
       "      <td>+1400</td>\n",
       "      <td>0.066667</td>\n",
       "      <td>0.061372</td>\n",
       "    </tr>\n",
       "    <tr>\n",
       "      <th>3</th>\n",
       "      <td>Group A</td>\n",
       "      <td>Northern Ireland</td>\n",
       "      <td>+5000</td>\n",
       "      <td>0.019608</td>\n",
       "      <td>0.018051</td>\n",
       "    </tr>\n",
       "    <tr>\n",
       "      <th>4</th>\n",
       "      <td>Group B</td>\n",
       "      <td>Spain</td>\n",
       "      <td>-120</td>\n",
       "      <td>0.545455</td>\n",
       "      <td>0.497742</td>\n",
       "    </tr>\n",
       "    <tr>\n",
       "      <th>5</th>\n",
       "      <td>Group B</td>\n",
       "      <td>Germany</td>\n",
       "      <td>+135</td>\n",
       "      <td>0.425532</td>\n",
       "      <td>0.388310</td>\n",
       "    </tr>\n",
       "    <tr>\n",
       "      <th>6</th>\n",
       "      <td>Group B</td>\n",
       "      <td>Denmark</td>\n",
       "      <td>+850</td>\n",
       "      <td>0.105263</td>\n",
       "      <td>0.096056</td>\n",
       "    </tr>\n",
       "    <tr>\n",
       "      <th>7</th>\n",
       "      <td>Group B</td>\n",
       "      <td>Finland</td>\n",
       "      <td>+5000</td>\n",
       "      <td>0.019608</td>\n",
       "      <td>0.017893</td>\n",
       "    </tr>\n",
       "    <tr>\n",
       "      <th>8</th>\n",
       "      <td>Group C</td>\n",
       "      <td>Netherlands</td>\n",
       "      <td>-125</td>\n",
       "      <td>0.555556</td>\n",
       "      <td>0.509190</td>\n",
       "    </tr>\n",
       "    <tr>\n",
       "      <th>9</th>\n",
       "      <td>Group C</td>\n",
       "      <td>Sweden</td>\n",
       "      <td>+125</td>\n",
       "      <td>0.444444</td>\n",
       "      <td>0.407352</td>\n",
       "    </tr>\n",
       "    <tr>\n",
       "      <th>10</th>\n",
       "      <td>Group C</td>\n",
       "      <td>Switzerland</td>\n",
       "      <td>+1400</td>\n",
       "      <td>0.066667</td>\n",
       "      <td>0.061103</td>\n",
       "    </tr>\n",
       "    <tr>\n",
       "      <th>11</th>\n",
       "      <td>Group C</td>\n",
       "      <td>Portugal</td>\n",
       "      <td>+4000</td>\n",
       "      <td>0.024390</td>\n",
       "      <td>0.022355</td>\n",
       "    </tr>\n",
       "    <tr>\n",
       "      <th>12</th>\n",
       "      <td>Group D</td>\n",
       "      <td>France</td>\n",
       "      <td>-325</td>\n",
       "      <td>0.764706</td>\n",
       "      <td>0.701492</td>\n",
       "    </tr>\n",
       "    <tr>\n",
       "      <th>13</th>\n",
       "      <td>Group D</td>\n",
       "      <td>Italy</td>\n",
       "      <td>+450</td>\n",
       "      <td>0.181818</td>\n",
       "      <td>0.166788</td>\n",
       "    </tr>\n",
       "    <tr>\n",
       "      <th>14</th>\n",
       "      <td>Group D</td>\n",
       "      <td>Iceland</td>\n",
       "      <td>+1200</td>\n",
       "      <td>0.076923</td>\n",
       "      <td>0.070564</td>\n",
       "    </tr>\n",
       "    <tr>\n",
       "      <th>15</th>\n",
       "      <td>Group D</td>\n",
       "      <td>Belgium</td>\n",
       "      <td>+1400</td>\n",
       "      <td>0.066667</td>\n",
       "      <td>0.061156</td>\n",
       "    </tr>\n",
       "  </tbody>\n",
       "</table>\n",
       "</div>"
      ],
      "text/plain": [
       "      Group              Team   Odds      Prob   Implied\n",
       "0   Group A           England   -250  0.714286  0.657555\n",
       "1   Group A            Norway   +250  0.285714  0.263022\n",
       "2   Group A           Austria  +1400  0.066667  0.061372\n",
       "3   Group A  Northern Ireland  +5000  0.019608  0.018051\n",
       "4   Group B             Spain   -120  0.545455  0.497742\n",
       "5   Group B           Germany   +135  0.425532  0.388310\n",
       "6   Group B           Denmark   +850  0.105263  0.096056\n",
       "7   Group B           Finland  +5000  0.019608  0.017893\n",
       "8   Group C       Netherlands   -125  0.555556  0.509190\n",
       "9   Group C            Sweden   +125  0.444444  0.407352\n",
       "10  Group C       Switzerland  +1400  0.066667  0.061103\n",
       "11  Group C          Portugal  +4000  0.024390  0.022355\n",
       "12  Group D            France   -325  0.764706  0.701492\n",
       "13  Group D             Italy   +450  0.181818  0.166788\n",
       "14  Group D           Iceland  +1200  0.076923  0.070564\n",
       "15  Group D           Belgium  +1400  0.066667  0.061156"
      ]
     },
     "execution_count": 27,
     "metadata": {},
     "output_type": "execute_result"
    }
   ],
   "source": [
    "df_odds"
   ]
  },
  {
   "cell_type": "markdown",
   "id": "cd087483-79cc-490a-bbda-91db08178f1e",
   "metadata": {},
   "source": [
    "As a reality check, let's make sure the implied probabilities always sum to 1."
   ]
  },
  {
   "cell_type": "code",
   "execution_count": 28,
   "id": "5918146c-56a5-4f81-a9c9-c3cb1ff31be2",
   "metadata": {},
   "outputs": [
    {
     "data": {
      "text/plain": [
       "Group\n",
       "Group A    1.0\n",
       "Group B    1.0\n",
       "Group C    1.0\n",
       "Group D    1.0\n",
       "Name: Implied, dtype: float64"
      ]
     },
     "execution_count": 28,
     "metadata": {},
     "output_type": "execute_result"
    }
   ],
   "source": [
    "df_odds.groupby(\"Group\").sum()[\"Implied\"]"
   ]
  },
  {
   "cell_type": "code",
   "execution_count": 29,
   "id": "0a52ff95-6832-4505-8c1e-6d958b494677",
   "metadata": {},
   "outputs": [
    {
     "data": {
      "text/plain": [
       "0              England\n",
       "1               Norway\n",
       "2              Austria\n",
       "3     Northern Ireland\n",
       "4                Spain\n",
       "5              Germany\n",
       "6              Denmark\n",
       "7              Finland\n",
       "8          Netherlands\n",
       "9               Sweden\n",
       "10         Switzerland\n",
       "11            Portugal\n",
       "12              France\n",
       "13               Italy\n",
       "14             Iceland\n",
       "15             Belgium\n",
       "Name: Team, dtype: object"
      ]
     },
     "execution_count": 29,
     "metadata": {},
     "output_type": "execute_result"
    }
   ],
   "source": [
    "df_odds.Team"
   ]
  },
  {
   "cell_type": "markdown",
   "id": "02901632-bf2c-4cf2-9a57-3c35d68b395a",
   "metadata": {},
   "source": [
    "Let's save these results.  We will also record the site and the date."
   ]
  },
  {
   "cell_type": "code",
   "execution_count": 30,
   "id": "ff46db51-47dc-4391-9243-475bf849cb44",
   "metadata": {},
   "outputs": [],
   "source": [
    "df_odds[\"Site\"] = \"Bet Online\"\n",
    "df_odds[\"Date\"] = \"2022-07-03\""
   ]
  },
  {
   "cell_type": "code",
   "execution_count": 31,
   "id": "f9e4e1ac-e0d1-4543-98c5-9ca713ddcf98",
   "metadata": {},
   "outputs": [],
   "source": [
    "df_odds.to_csv(\"data/gp_odds.csv\", index=False)"
   ]
  }
 ],
 "metadata": {
  "kernelspec": {
   "display_name": "Python 3 (ipykernel)",
   "language": "python",
   "name": "python3"
  },
  "language_info": {
   "codemirror_mode": {
    "name": "ipython",
    "version": 3
   },
   "file_extension": ".py",
   "mimetype": "text/x-python",
   "name": "python",
   "nbconvert_exporter": "python",
   "pygments_lexer": "ipython3",
   "version": "3.9.13"
  }
 },
 "nbformat": 4,
 "nbformat_minor": 5
}
